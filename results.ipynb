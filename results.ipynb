{
  "nbformat": 4,
  "nbformat_minor": 0,
  "metadata": {
    "kernelspec": {
      "display_name": "Python 3",
      "language": "python",
      "name": "python3"
    },
    "language_info": {
      "codemirror_mode": {
        "name": "ipython",
        "version": 3
      },
      "file_extension": ".py",
      "mimetype": "text/x-python",
      "name": "python",
      "nbconvert_exporter": "python",
      "pygments_lexer": "ipython3",
      "version": "3.8.2"
    },
    "colab": {
      "name": "results.ipynb",
      "provenance": []
    }
  },
  "cells": [
    {
      "cell_type": "markdown",
      "metadata": {
        "id": "WKGnvdVh3NMH"
      },
      "source": [
        "# Results post-processing and plots\r\n",
        "\r\n",
        "In this notebook, the outputs from the main notebook are imported and the averages with confidence intervals for each batch size is calculated. Then, we plot the results to compare with the baseline performance."
      ]
    },
    {
      "cell_type": "code",
      "metadata": {
        "id": "04Y6Q_lD3CXy"
      },
      "source": [
        "import numpy as np\n",
        "from matplotlib import pyplot as plt\n",
        "from scipy.stats import t\n",
        "import math"
      ],
      "execution_count": null,
      "outputs": []
    },
    {
      "cell_type": "code",
      "metadata": {
        "id": "_79W8oUN3CYF"
      },
      "source": [
        "# imports the closed and open set micro-F1 scores and rejection accuracy for a given batch size and seeds\n",
        "def import_results(batch_size,seeds):\n",
        "    performance_closed = []\n",
        "    performance_open = []\n",
        "    performance_rejection = []\n",
        "    for s in seeds:\n",
        "        closed_p = np.load(\"Results/performanceb\"+str(batch_size)+\"closedseed\"+str(s)+\".npy\")\n",
        "        open_p = np.load(\"Results/performanceb\"+str(batch_size)+\"openseed\"+str(s)+\".npy\")\n",
        "        rejection_p = np.load(\"Results/performancerejectionb\"+str(batch_size)+\"seed\"+str(s)+\".npy\")\n",
        "        performance_closed.append(closed_p)\n",
        "        performance_open.append(open_p)\n",
        "        performance_rejection.append(rejection_p)\n",
        "    performance_closed = np.array(performance_closed)\n",
        "    performance_open = np.array(performance_open)\n",
        "    performance_rejection = np.array(performance_rejection)\n",
        "    return performance_closed, performance_open, performance_rejection"
      ],
      "execution_count": null,
      "outputs": []
    },
    {
      "cell_type": "code",
      "metadata": {
        "id": "AnXUO_N_3CYH"
      },
      "source": [
        "# imports the baseline's closed and open set micro-F1 scores and rejection accuracy according to the used seeds\n",
        "def import_baseline(seeds):\n",
        "    performance_closed = []\n",
        "    performance_open = []\n",
        "    performance_rejection = []\n",
        "    for s in seeds:\n",
        "        closed_p = np.load(\"Results/performancebaselineclosedseed\"+str(s)+\".npy\")\n",
        "        open_p = np.load(\"Results/performancebaselineopenseed\"+str(s)+\".npy\")\n",
        "        rejection_p = np.load(\"Results/performancerejectionbaselineseed\"+str(s)+\".npy\")\n",
        "        performance_closed.append(closed_p)\n",
        "        performance_open.append(open_p)\n",
        "        performance_rejection.append(rejection_p)\n",
        "    performance_closed = np.array(performance_closed)\n",
        "    performance_open = np.array(performance_open)\n",
        "    performance_rejection = np.array(performance_rejection)\n",
        "    return performance_closed, performance_open, performance_rejection"
      ],
      "execution_count": null,
      "outputs": []
    },
    {
      "cell_type": "code",
      "metadata": {
        "id": "pjL0lYSu3CYI"
      },
      "source": [
        "# calculates the confidence interval of the active learner performances with a 95% confidence level\n",
        "def average_confidence_interval(performance_closed, performance_open, performance_rejection):\n",
        "    avg_closed = np.average(performance_closed,axis=0)\n",
        "    avg_open = np.average(performance_open,axis=0)\n",
        "    avg_rejection = np.average(performance_rejection)\n",
        "    \n",
        "    sd_closed = np.std(performance_closed,axis=0)\n",
        "    sd_open = np.std(performance_open,axis=0)\n",
        "    sd_rejection = np.std(performance_rejection)\n",
        "    \n",
        "    h_closed = np.zeros(len(avg_closed))\n",
        "    h_open = np.zeros(len(avg_open))\n",
        "    \n",
        "    for i in range(len(avg_closed)):\n",
        "        h_closed[i] = t.ppf((1 + 0.95) / 2., performance_closed.shape[1]-1)*sd_closed[i]/math.sqrt(performance_closed.shape[1])\n",
        "        h_open[i] = t.ppf((1 + 0.95) / 2., performance_open.shape[1]-1)*sd_open[i]/math.sqrt(performance_open.shape[1])\n",
        "        \n",
        "    h_rejection = t.ppf((1 + 0.95) / 2., len(performance_rejection)-1)*sd_rejection/math.sqrt(len(performance_rejection))\n",
        "    \n",
        "    return avg_closed, avg_open, avg_rejection, h_closed, h_open, h_rejection"
      ],
      "execution_count": null,
      "outputs": []
    },
    {
      "cell_type": "code",
      "metadata": {
        "id": "R8fiABKK3CYK"
      },
      "source": [
        "# calculates the confidence interval of the baseline performances with a 95% confidence level\n",
        "def average_confidence_baseline(performance_closed, performance_open, performance_rejection):\n",
        "    avg_closed = np.average(performance_closed)\n",
        "    avg_open = np.average(performance_open)\n",
        "    avg_rejection = np.average(performance_rejection)\n",
        "    \n",
        "    sd_closed = np.std(performance_closed)\n",
        "    sd_open = np.std(performance_open)\n",
        "    sd_rejection = np.std(performance_rejection)\n",
        "    \n",
        "    h_closed = t.ppf((1 + 0.95) / 2., len(performance_closed)-1)*sd_closed/math.sqrt(len(performance_closed))\n",
        "    h_open = t.ppf((1 + 0.95) / 2., len(performance_open)-1)*sd_open/math.sqrt(len(performance_open)) \n",
        "    h_rejection = t.ppf((1 + 0.95) / 2., len(performance_rejection)-1)*sd_rejection/math.sqrt(len(performance_rejection))\n",
        "    \n",
        "    return avg_closed, avg_open, avg_rejection, h_closed, h_open, h_rejection"
      ],
      "execution_count": null,
      "outputs": []
    },
    {
      "cell_type": "code",
      "metadata": {
        "id": "jlXt7igA3CYL"
      },
      "source": [
        "# importing results for batch sizes 25, 50, 100 and 250 and also the baseline results\n",
        "closed25, open25, reject25 = import_results(25,np.arange(5))\n",
        "closed50, open50, reject50 = import_results(50,np.arange(5))\n",
        "closed100, open100, reject100 = import_results(100,np.arange(5))\n",
        "closed250, open250, reject250 = import_results(250,np.arange(5))\n",
        "closed_base, open_base, reject_base = import_baseline(np.arange(5))"
      ],
      "execution_count": null,
      "outputs": []
    },
    {
      "cell_type": "code",
      "metadata": {
        "id": "SlkxJpZ23CYM"
      },
      "source": [
        "# calculating the averages and confidence intervals\n",
        "avg_closed_25, avg_open_25, avg_reject_25, h_closed_25, h_open_25, h_reject_25 = average_confidence_interval(closed25, open25, reject25)\n",
        "avg_closed_50, avg_open_50, avg_reject_50, h_closed_50, h_open_50, h_reject_50 = average_confidence_interval(closed50, open50, reject50)\n",
        "avg_closed_100, avg_open_100, avg_reject_100, h_closed_100, h_open_100, h_reject_100 = average_confidence_interval(closed100, open100, reject100)\n",
        "avg_closed_250, avg_open_250, avg_reject_250, h_closed_250, h_open_250, h_reject_250 = average_confidence_interval(closed250, open250, reject250)\n",
        "avg_closed_base, avg_open_base, avg_reject_base, h_closed_base, h_open_base, h_reject_base = average_confidence_baseline(closed_base, open_base, reject_base)"
      ],
      "execution_count": null,
      "outputs": []
    },
    {
      "cell_type": "code",
      "metadata": {
        "id": "P6kJm0qT3CYN"
      },
      "source": [
        "# arrays with the number of samples added at each active learning loop iteration\n",
        "x25 = np.arange(int(500/25)+1)*25\n",
        "x50 = np.arange(int(500/50)+1)*50\n",
        "x100 = np.arange(int(500/100)+1)*100\n",
        "x250 = np.arange(int(500/250)+1)*250"
      ],
      "execution_count": null,
      "outputs": []
    },
    {
      "cell_type": "code",
      "metadata": {
        "scrolled": true,
        "id": "6PBQuURZ3CYO",
        "outputId": "8a90794b-24c0-446b-9b79-e3496d6519d5"
      },
      "source": [
        "with plt.style.context('seaborn-white'):\n",
        "    plt.figure(figsize=(10, 5))\n",
        "    plt.title('Closed set micro-F1 score comparison by batch size')    \n",
        "    plt.plot(x25, avg_closed_25, 'x-')\n",
        "    plt.plot(x50, avg_closed_50, '^--')\n",
        "    plt.plot(x100, avg_closed_100, 'o-.')\n",
        "    plt.plot(x250, avg_closed_250, 's:')\n",
        "    plt.plot([0, 500], np.repeat(avg_closed_base, 2))\n",
        "    plt.legend(['S=25','S=50','S=100','S=250','Baseline'], fontsize = 'large')\n",
        "    plt.xlabel('Number of samples added')\n",
        "    plt.ylabel('Micro-F1 score')\n",
        "    plt.show()"
      ],
      "execution_count": null,
      "outputs": [
        {
          "output_type": "display_data",
          "data": {
            "image/png": "[encoded data removed]",
            "text/plain": [
              "<Figure size 720x360 with 1 Axes>"
            ]
          },
          "metadata": {
            "tags": []
          }
        }
      ]
    },
    {
      "cell_type": "code",
      "metadata": {
        "id": "GH01KrVy3CYR",
        "outputId": "80de7672-7824-4d8b-aea6-f10093344be4"
      },
      "source": [
        "print(\"Final S25 closed set micro-F1 score: \"+str(round(avg_closed_25[-1],4))+\" +/- \"+str(round(h_closed_25[-1],4)))"
      ],
      "execution_count": null,
      "outputs": [
        {
          "output_type": "stream",
          "text": [
            "Final S25 closed set micro-F1 score: 0.7263 +/- 0.002\n"
          ],
          "name": "stdout"
        }
      ]
    },
    {
      "cell_type": "code",
      "metadata": {
        "id": "jPxnE8Rv3CYT",
        "outputId": "0dfa7024-bbb5-40b6-e47c-17d0f43531f6"
      },
      "source": [
        "print(\"Final S50 closed set micro-F1 score: \"+str(round(avg_closed_50[-1],4))+\" +/- \"+str(round(h_closed_50[-1],4)))"
      ],
      "execution_count": null,
      "outputs": [
        {
          "output_type": "stream",
          "text": [
            "Final S50 closed set micro-F1 score: 0.7262 +/- 0.0029\n"
          ],
          "name": "stdout"
        }
      ]
    },
    {
      "cell_type": "code",
      "metadata": {
        "id": "kwmN680T3CYU",
        "outputId": "b1fd4804-e6c1-4a6b-b7a5-cda93c9a723a"
      },
      "source": [
        "print(\"Final S100 closed set micro-F1 score: \"+str(round(avg_closed_100[-1],4))+\" +/- \"+str(round(h_closed_100[-1],4)))"
      ],
      "execution_count": null,
      "outputs": [
        {
          "output_type": "stream",
          "text": [
            "Final S100 closed set micro-F1 score: 0.7262 +/- 0.0045\n"
          ],
          "name": "stdout"
        }
      ]
    },
    {
      "cell_type": "code",
      "metadata": {
        "id": "8tqD6FsU3CYU",
        "outputId": "08a6fafc-3ccd-4658-8c0c-f5b97bb15608"
      },
      "source": [
        "print(\"Final S250 closed set micro-F1 score: \"+str(round(avg_closed_250[-1],4))+\" +/- \"+str(round(h_closed_250[-1],4)))"
      ],
      "execution_count": null,
      "outputs": [
        {
          "output_type": "stream",
          "text": [
            "Final S250 closed set micro-F1 score: 0.726 +/- 0.0108\n"
          ],
          "name": "stdout"
        }
      ]
    },
    {
      "cell_type": "code",
      "metadata": {
        "id": "eGCA1clS3CYW",
        "outputId": "268c6125-4251-4d83-d68d-3a46e7a6b87a"
      },
      "source": [
        "print(\"Baseline closed set micro-F1 score: \"+str(round(avg_closed_base,4))+\" +/- \"+str(round(h_closed_base,4)))"
      ],
      "execution_count": null,
      "outputs": [
        {
          "output_type": "stream",
          "text": [
            "Baseline closed set micro-F1 score: 0.7239 +/- 0.0023\n"
          ],
          "name": "stdout"
        }
      ]
    },
    {
      "cell_type": "code",
      "metadata": {
        "id": "9hVPyke53CYX",
        "outputId": "7f0612db-f951-4e2b-f982-ce61a71c8b17"
      },
      "source": [
        "with plt.style.context('seaborn-white'):\n",
        "    plt.figure(figsize=(10, 5))\n",
        "    plt.title('Open set micro-F1 score comparison by batch size')    \n",
        "    plt.plot(x25, avg_open_25, 'x-')\n",
        "    plt.plot(x50, avg_open_50, '^--')\n",
        "    plt.plot(x100, avg_open_100, 'o-.')\n",
        "    plt.plot(x250, avg_open_250, 's:')\n",
        "    plt.plot([0, 500], np.repeat(avg_open_base, 2))\n",
        "    plt.legend(['S=25','S=50','S=100','S=250','Baseline'], fontsize = 'large')\n",
        "    plt.xlabel('Number of samples added')\n",
        "    plt.ylabel('Micro-F1 score')\n",
        "    plt.show()"
      ],
      "execution_count": null,
      "outputs": [
        {
          "output_type": "display_data",
          "data": {
            "image/png": "[encoded data removed]",
            "text/plain": [
              "<Figure size 720x360 with 1 Axes>"
            ]
          },
          "metadata": {
            "tags": []
          }
        }
      ]
    },
    {
      "cell_type": "code",
      "metadata": {
        "id": "sea9SdkX3CYZ",
        "outputId": "3b139079-70b3-4d46-a27f-c9c624bd4159"
      },
      "source": [
        "print(\"Final S25 open set micro-F1 score: \"+str(round(avg_open_25[-1],4))+\" +/- \"+str(round(h_open_25[-1],4)))"
      ],
      "execution_count": null,
      "outputs": [
        {
          "output_type": "stream",
          "text": [
            "Final S25 open set micro-F1 score: 0.6589 +/- 0.0037\n"
          ],
          "name": "stdout"
        }
      ]
    },
    {
      "cell_type": "code",
      "metadata": {
        "id": "sGJzxzTW3CYa",
        "outputId": "83284262-d354-4bc0-c1ad-6ad03b491da9"
      },
      "source": [
        "print(\"Final S50 open set micro-F1 score: \"+str(round(avg_open_50[-1],4))+\" +/- \"+str(round(h_open_50[-1],4)))"
      ],
      "execution_count": null,
      "outputs": [
        {
          "output_type": "stream",
          "text": [
            "Final S50 open set micro-F1 score: 0.6589 +/- 0.0054\n"
          ],
          "name": "stdout"
        }
      ]
    },
    {
      "cell_type": "code",
      "metadata": {
        "id": "zdZI8QNk3CYb",
        "outputId": "e4af8d88-52b9-4d6e-dac7-f18d9de71239"
      },
      "source": [
        "print(\"Final S100 open set micro-F1 score: \"+str(round(avg_open_100[-1],4))+\" +/- \"+str(round(h_open_100[-1],4)))"
      ],
      "execution_count": null,
      "outputs": [
        {
          "output_type": "stream",
          "text": [
            "Final S100 open set micro-F1 score: 0.659 +/- 0.0086\n"
          ],
          "name": "stdout"
        }
      ]
    },
    {
      "cell_type": "code",
      "metadata": {
        "id": "EiDgkQlP3CYd",
        "outputId": "b51955bb-ae62-4393-864e-d389f517e541"
      },
      "source": [
        "print(\"Final S250 open set micro-F1 score: \"+str(round(avg_open_250[-1],4))+\" +/- \"+str(round(h_open_250[-1],4)))"
      ],
      "execution_count": null,
      "outputs": [
        {
          "output_type": "stream",
          "text": [
            "Final S250 open set micro-F1 score: 0.6589 +/- 0.0203\n"
          ],
          "name": "stdout"
        }
      ]
    },
    {
      "cell_type": "code",
      "metadata": {
        "id": "YFnq901c3CYd",
        "outputId": "31cf1d8b-b4c8-4a19-adc8-316ff5c90dbe"
      },
      "source": [
        "print(\"Baseline open set micro-F1 score: \"+str(round(avg_open_base,4))+\" +/- \"+str(round(h_open_base,4)))"
      ],
      "execution_count": null,
      "outputs": [
        {
          "output_type": "stream",
          "text": [
            "Baseline open set micro-F1 score: 0.6545 +/- 0.0027\n"
          ],
          "name": "stdout"
        }
      ]
    },
    {
      "cell_type": "code",
      "metadata": {
        "id": "76SCsXcE3CYe"
      },
      "source": [
        "x_reject = [25, 50, 100, 250]"
      ],
      "execution_count": null,
      "outputs": []
    },
    {
      "cell_type": "code",
      "metadata": {
        "id": "eUlZlETf3CYf",
        "outputId": "3483cec1-e779-4922-9066-33a3573449c4"
      },
      "source": [
        "with plt.style.context('seaborn-white'):\n",
        "    plt.figure(figsize=(10, 5))\n",
        "    plt.title('Rejection accuracy')    \n",
        "    plt.plot(x_reject, [avg_reject_25, avg_reject_50, avg_reject_100, avg_reject_250])\n",
        "    plt.scatter(x_reject, [avg_reject_25, avg_reject_50, avg_reject_100, avg_reject_250])\n",
        "    plt.xticks([25, 50, 100, 250])\n",
        "    plt.xlabel('Batch size')\n",
        "    plt.ylabel('Accuracy')\n",
        "    plt.show()"
      ],
      "execution_count": null,
      "outputs": [
        {
          "output_type": "display_data",
          "data": {
            "image/png": "[encoded data removed]",
            "text/plain": [
              "<Figure size 720x360 with 1 Axes>"
            ]
          },
          "metadata": {
            "tags": []
          }
        }
      ]
    },
    {
      "cell_type": "code",
      "metadata": {
        "id": "ISlgmyi93CYg",
        "outputId": "283216eb-abc8-4c26-e24b-60ce1b51f291"
      },
      "source": [
        "print(\"Final S25 unknown class rejection accuracy: \"+str(round(avg_reject_25,4))+\" +/- \"+str(round(h_reject_25,4)))"
      ],
      "execution_count": null,
      "outputs": [
        {
          "output_type": "stream",
          "text": [
            "Final S25 unknown class rejection accuracy: 0.7071 +/- 0.0278\n"
          ],
          "name": "stdout"
        }
      ]
    },
    {
      "cell_type": "code",
      "metadata": {
        "id": "yZie7GTz3CYg",
        "outputId": "6ea832aa-8580-4c1e-8654-92e47d2ce35e"
      },
      "source": [
        "print(\"Final S50 unknown class rejection accuracy: \"+str(round(avg_reject_50,4))+\" +/- \"+str(round(h_reject_50,4)))"
      ],
      "execution_count": null,
      "outputs": [
        {
          "output_type": "stream",
          "text": [
            "Final S50 unknown class rejection accuracy: 0.7073 +/- 0.028\n"
          ],
          "name": "stdout"
        }
      ]
    },
    {
      "cell_type": "code",
      "metadata": {
        "id": "eG40WE9U3CYh",
        "outputId": "ab50debf-e54f-4dbc-df95-428e2417859b"
      },
      "source": [
        "print(\"Final S100 unknown class rejection accuracy: \"+str(round(avg_reject_100,4))+\" +/- \"+str(round(h_reject_100,4)))"
      ],
      "execution_count": null,
      "outputs": [
        {
          "output_type": "stream",
          "text": [
            "Final S100 unknown class rejection accuracy: 0.7075 +/- 0.0282\n"
          ],
          "name": "stdout"
        }
      ]
    },
    {
      "cell_type": "code",
      "metadata": {
        "id": "F8BHgHU73CYi",
        "outputId": "18593817-289e-4d36-f75f-04a6751027d9"
      },
      "source": [
        "print(\"Final S250 unknown class rejection accuracy: \"+str(round(avg_reject_250,4))+\" +/- \"+str(round(h_reject_250,4)))"
      ],
      "execution_count": null,
      "outputs": [
        {
          "output_type": "stream",
          "text": [
            "Final S250 unknown class rejection accuracy: 0.7076 +/- 0.0276\n"
          ],
          "name": "stdout"
        }
      ]
    },
    {
      "cell_type": "code",
      "metadata": {
        "id": "m0mHlZOB3CYj",
        "outputId": "d44af1dc-972d-4e41-b14d-1cfa4e9adfab"
      },
      "source": [
        "print(\"Baseline unknown class rejection accuracy: \"+str(round(avg_reject_base,4))+\" +/- \"+str(round(h_reject_base,4)))"
      ],
      "execution_count": null,
      "outputs": [
        {
          "output_type": "stream",
          "text": [
            "Baseline unknown class rejection accuracy: 0.6775 +/- 0.0151\n"
          ],
          "name": "stdout"
        }
      ]
    },
    {
      "cell_type": "code",
      "metadata": {
        "id": "Tbr__4yP3CYj"
      },
      "source": [
        ""
      ],
      "execution_count": null,
      "outputs": []
    }
  ]
}