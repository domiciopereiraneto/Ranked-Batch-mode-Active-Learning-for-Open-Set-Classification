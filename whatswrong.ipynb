{
  "nbformat": 4,
  "nbformat_minor": 0,
  "metadata": {
    "kernelspec": {
      "display_name": "Python 3",
      "language": "python",
      "name": "python3"
    },
    "language_info": {
      "codemirror_mode": {
        "name": "ipython",
        "version": 3
      },
      "file_extension": ".py",
      "mimetype": "text/x-python",
      "name": "python",
      "nbconvert_exporter": "python",
      "pygments_lexer": "ipython3",
      "version": "3.8.5"
    },
    "colab": {
      "name": "kneighborsBatch.ipynb",
      "provenance": [],
      "collapsed_sections": [],
      "toc_visible": true
    }
  },
  "cells": [
    {
      "cell_type": "markdown",
      "metadata": {
        "id": "uMoJWCztg2Nf"
      },
      "source": [
        "# Pool-based sampling with CIFAR10"
      ]
    },
    {
      "cell_type": "code",
      "metadata": {
        "id": "sCbjhs0shXpr"
      },
      "source": [
        "pip install modal"
      ],
      "execution_count": null,
      "outputs": []
    },
    {
      "cell_type": "code",
      "metadata": {
        "id": "lBe4P5yig2Nf"
      },
      "source": [
        "import numpy as np\n",
        "import math\n",
        "\n",
        "from modAL.models import ActiveLearner\n",
        "from modAL.uncertainty import uncertainty_sampling\n",
        "\n",
        "from sklearn.datasets import load_digits\n",
        "from sklearn.model_selection import train_test_split\n",
        "from sklearn.ensemble import RandomForestClassifier\n",
        "from sklearn.decomposition import PCA\n",
        "from sklearn.neighbors import KNeighborsClassifier\n",
        "from functools import partial\n",
        "from modAL.batch import uncertainty_batch_sampling\n",
        "\n",
        "from IPython import display\n",
        "from matplotlib import pyplot as plt\n",
        "%matplotlib inline"
      ],
      "execution_count": 256,
      "outputs": []
    },
    {
      "cell_type": "code",
      "metadata": {
        "id": "9xdJK2a0g2Nf"
      },
      "source": [
        "# imports the cifar files\n",
        "def unpickle(file):\n",
        "    import pickle\n",
        "    with open(file, 'rb') as fo:\n",
        "        dict = pickle.load(fo, encoding='bytes')\n",
        "    return dict"
      ],
      "execution_count": 257,
      "outputs": []
    },
    {
      "cell_type": "code",
      "metadata": {
        "id": "NNzRjTedg2Nf"
      },
      "source": [
        "# returns a image rgb array, label and label's name of the image with index im_idx\n",
        "def cifar10_img_info(data, meta, im_idx=0):\n",
        "    im = data[b'data'][im_idx, :]\n",
        "\n",
        "    im_r = im[0:1024].reshape(32, 32)\n",
        "    im_g = im[1024:2048].reshape(32, 32)\n",
        "    im_b = im[2048:].reshape(32, 32)\n",
        "\n",
        "    img = np.dstack((im_r, im_g, im_b))\n",
        "    label = data[b'labels'][im_idx]\n",
        "    category = meta[b'label_names'][data[b'labels'][im_idx]]\n",
        "\n",
        "    return img, label, category"
      ],
      "execution_count": 258,
      "outputs": []
    },
    {
      "cell_type": "code",
      "metadata": {
        "id": "ubkIuIzBg2Nf"
      },
      "source": [
        "# returns a image rgb array\n",
        "def img_reshape(im):\n",
        "    im_r = im[0:1024].reshape(32, 32)\n",
        "    im_g = im[1024:2048].reshape(32, 32)\n",
        "    im_b = im[2048:].reshape(32, 32)\n",
        "\n",
        "    img = np.dstack((im_r, im_g, im_b))\n",
        "    \n",
        "    return img"
      ],
      "execution_count": 259,
      "outputs": []
    },
    {
      "cell_type": "code",
      "metadata": {
        "id": "o1yvXspvg2Nf"
      },
      "source": [
        "# returns X and y of the dataset, X.shape = (nº of samples x features) and y.shape = (nº of samples)\n",
        "def batch_to_xy(batch):\n",
        "    X = batch[b\"data\"]\n",
        "    y = batch[b\"labels\"]\n",
        "    y = np.array(y)\n",
        "    y.reshape(y.shape[0])\n",
        "    return X, y"
      ],
      "execution_count": 260,
      "outputs": []
    },
    {
      "cell_type": "markdown",
      "metadata": {
        "id": "IGcnPC1sg2Nf"
      },
      "source": [
        "## The dataset"
      ]
    },
    {
      "cell_type": "code",
      "metadata": {
        "id": "yL8rXtczg2Nf"
      },
      "source": [
        "# batch with 10000 examples\n",
        "batch1 = unpickle(\"data_batch_1\")\n",
        "# meta has the labels' names\n",
        "meta = unpickle(\"batches.meta\")"
      ],
      "execution_count": 342,
      "outputs": []
    },
    {
      "cell_type": "markdown",
      "metadata": {
        "id": "HL5himZBg2Nf"
      },
      "source": [
        "Showing a example from the batch"
      ]
    },
    {
      "cell_type": "code",
      "metadata": {
        "id": "9Ps8dh_Mg2Nf"
      },
      "source": [
        "# change this to see another example\n",
        "img_idx = 45"
      ],
      "execution_count": 343,
      "outputs": []
    },
    {
      "cell_type": "code",
      "metadata": {
        "id": "T3S1OC1hg2Nf"
      },
      "source": [
        "img_ex, label_ex, category_ex = cifar10_img_info(batch1, meta, img_idx)"
      ],
      "execution_count": 344,
      "outputs": []
    },
    {
      "cell_type": "code",
      "metadata": {
        "colab": {
          "base_uri": "https://localhost:8080/",
          "height": 283
        },
        "id": "xXp-P41ag2Ng",
        "outputId": "0b30fcec-a0d5-432f-f1ea-818bedae43ad"
      },
      "source": [
        "plt.imshow(img_ex)"
      ],
      "execution_count": 345,
      "outputs": [
        {
          "output_type": "execute_result",
          "data": {
            "text/plain": [
              "<matplotlib.image.AxesImage at 0x7f1cd685f7f0>"
            ]
          },
          "metadata": {
            "tags": []
          },
          "execution_count": 345
        },
        {
          "output_type": "display_data",
          "data": {
            "image/png": "[encoded data removed]",
            "text/plain": [
              "<Figure size 432x288 with 1 Axes>"
            ]
          },
          "metadata": {
            "tags": [],
            "needs_background": "light"
          }
        }
      ]
    },
    {
      "cell_type": "code",
      "metadata": {
        "colab": {
          "base_uri": "https://localhost:8080/"
        },
        "id": "zTrM7xwHg2Ng",
        "outputId": "20776208-fbc6-4ae4-d35d-89c3997e65ad"
      },
      "source": [
        "print(\"Label: \"+str(label_ex)+\"\\nCategory: \"+str(category_ex))"
      ],
      "execution_count": 346,
      "outputs": [
        {
          "output_type": "stream",
          "text": [
            "Label: 1\n",
            "Category: b'automobile'\n"
          ],
          "name": "stdout"
        }
      ]
    },
    {
      "cell_type": "markdown",
      "metadata": {
        "id": "CKhEYS6pg2Ng"
      },
      "source": [
        "\n",
        "# **Preparing the dataset**"
      ]
    },
    {
      "cell_type": "code",
      "metadata": {
        "id": "CSRDdRHMg2Ng"
      },
      "source": [
        "X_raw, Y_raw = batch_to_xy(batch1)"
      ],
      "execution_count": 375,
      "outputs": []
    },
    {
      "cell_type": "code",
      "metadata": {
        "colab": {
          "base_uri": "https://localhost:8080/"
        },
        "id": "INoC-_6Qg2Ng",
        "outputId": "a5c517d6-1207-48b9-958d-350e8001669d"
      },
      "source": [
        "X_raw.shape"
      ],
      "execution_count": 376,
      "outputs": [
        {
          "output_type": "execute_result",
          "data": {
            "text/plain": [
              "(10000, 3072)"
            ]
          },
          "metadata": {
            "tags": []
          },
          "execution_count": 376
        }
      ]
    },
    {
      "cell_type": "code",
      "metadata": {
        "colab": {
          "base_uri": "https://localhost:8080/"
        },
        "id": "c00JuAKng2Nh",
        "outputId": "7cadff4c-20d3-4448-8f98-f2ebbf5135d6"
      },
      "source": [
        "Y_raw.shape"
      ],
      "execution_count": 377,
      "outputs": [
        {
          "output_type": "execute_result",
          "data": {
            "text/plain": [
              "(10000,)"
            ]
          },
          "metadata": {
            "tags": []
          },
          "execution_count": 377
        }
      ]
    },
    {
      "cell_type": "code",
      "metadata": {
        "id": "G5QE_Aqpg2Nh"
      },
      "source": [
        "#APPLY PCA\n",
        "#https://towardsdatascience.com/integration-of-dimension-reduction-methods-and-neural-network-for-image-classification-96281963fe24\n",
        "#99% -> 658\n",
        "#95% -> 217\n",
        "#90% -> 99\n",
        "#80% -> 21\n",
        "RANDOM_STATE_SEED = 123\n",
        "np.random.seed(RANDOM_STATE_SEED)\n",
        "pca = PCA(n_components=21, random_state=RANDOM_STATE_SEED)\n",
        "tf_X = pca.fit_transform(X=X_raw)"
      ],
      "execution_count": 378,
      "outputs": []
    },
    {
      "cell_type": "code",
      "metadata": {
        "colab": {
          "base_uri": "https://localhost:8080/"
        },
        "id": "Znug_1l8g2Nh",
        "outputId": "91dc6477-f64f-4db8-9616-e612543e469a"
      },
      "source": [
        "tf_X.shape"
      ],
      "execution_count": 380,
      "outputs": [
        {
          "output_type": "execute_result",
          "data": {
            "text/plain": [
              "(10000, 21)"
            ]
          },
          "metadata": {
            "tags": []
          },
          "execution_count": 380
        }
      ]
    },
    {
      "cell_type": "code",
      "metadata": {
        "colab": {
          "base_uri": "https://localhost:8080/"
        },
        "id": "mSZP-l6Ug2Nh",
        "outputId": "3a8ae5fc-3f63-4d84-e4f6-7fdb81a50070"
      },
      "source": [
        "X_raw = tf_X\n",
        "X_raw.shape"
      ],
      "execution_count": 381,
      "outputs": [
        {
          "output_type": "execute_result",
          "data": {
            "text/plain": [
              "(10000, 21)"
            ]
          },
          "metadata": {
            "tags": []
          },
          "execution_count": 381
        }
      ]
    },
    {
      "cell_type": "code",
      "metadata": {
        "id": "byV37OOqg2Nh"
      },
      "source": [
        "# Isolate our examples for our labeled dataset.\n",
        "n_labeled = X_raw.shape[0]   #Number of samples\n",
        "training_indices = np.random.randint(low=0, high=n_labeled + 1, size=1300)\n",
        "#print(training_indices)"
      ],
      "execution_count": 384,
      "outputs": []
    },
    {
      "cell_type": "code",
      "metadata": {
        "colab": {
          "base_uri": "https://localhost:8080/"
        },
        "id": "eHLz9uBHg2Nh",
        "outputId": "81fdbe8d-ca0e-45e9-de18-039e88687a1c"
      },
      "source": [
        "X_train = X_raw[training_indices]\n",
        "y_train = Y_raw[training_indices]\n",
        "X_train.shape"
      ],
      "execution_count": 385,
      "outputs": [
        {
          "output_type": "execute_result",
          "data": {
            "text/plain": [
              "(1300, 21)"
            ]
          },
          "metadata": {
            "tags": []
          },
          "execution_count": 385
        }
      ]
    },
    {
      "cell_type": "code",
      "metadata": {
        "id": "KtJ4KeCfg2Ni"
      },
      "source": [
        "# Isolate the non-training examples we'll be querying.\n",
        "X_pool = np.delete(X_raw, training_indices, axis=0)\n",
        "y_pool = np.delete(Y_raw, training_indices, axis=0)"
      ],
      "execution_count": 386,
      "outputs": []
    },
    {
      "cell_type": "code",
      "metadata": {
        "colab": {
          "base_uri": "https://localhost:8080/"
        },
        "id": "JroQU2ieg2Ni",
        "outputId": "cc3346c5-8178-41e4-c703-d582afd90f6c"
      },
      "source": [
        "X_pool.shape"
      ],
      "execution_count": 387,
      "outputs": [
        {
          "output_type": "execute_result",
          "data": {
            "text/plain": [
              "(8784, 21)"
            ]
          },
          "metadata": {
            "tags": []
          },
          "execution_count": 387
        }
      ]
    },
    {
      "cell_type": "code",
      "metadata": {
        "colab": {
          "base_uri": "https://localhost:8080/"
        },
        "id": "i_fVLRrjg2Ni",
        "outputId": "3a2a61cd-87ee-451d-98cb-e96e22f5f546"
      },
      "source": [
        "y_pool.shape"
      ],
      "execution_count": 388,
      "outputs": [
        {
          "output_type": "execute_result",
          "data": {
            "text/plain": [
              "(8784,)"
            ]
          },
          "metadata": {
            "tags": []
          },
          "execution_count": 388
        }
      ]
    },
    {
      "cell_type": "code",
      "metadata": {
        "id": "EbszQkXhg2Ni"
      },
      "source": [
        "# Specify our core estimator.\n",
        "knn = KNeighborsClassifier(n_neighbors=3, weights='distance')"
      ],
      "execution_count": 389,
      "outputs": []
    },
    {
      "cell_type": "code",
      "metadata": {
        "id": "Jy7oss0Ug2Ni"
      },
      "source": [
        "# Pre-set our batch sampling to retrieve 3 samples at a time.\n",
        "BATCH_SIZE = 400\n",
        "preset_batch = partial(uncertainty_batch_sampling, n_instances=BATCH_SIZE)"
      ],
      "execution_count": 390,
      "outputs": []
    },
    {
      "cell_type": "markdown",
      "metadata": {
        "id": "dSDD0_P8g2Ni"
      },
      "source": [
        "## Initializing the learner"
      ]
    },
    {
      "cell_type": "code",
      "metadata": {
        "id": "HUsJKVupg2Ni"
      },
      "source": [
        "learner = ActiveLearner(\n",
        "    estimator=knn,\n",
        "    X_training=X_train,\n",
        "    y_training=y_train,\n",
        "    query_strategy=preset_batch\n",
        ")"
      ],
      "execution_count": 391,
      "outputs": []
    },
    {
      "cell_type": "markdown",
      "metadata": {
        "id": "Rvdil78Bg2Ni"
      },
      "source": [
        "From the examples: \"We also set how many queries we want to make. The more the better! (Usually :) )\""
      ]
    },
    {
      "cell_type": "code",
      "metadata": {
        "id": "RUyfYpJug2Ni"
      },
      "source": [
        "# Isolate the data we'll need for plotting.\n",
        "predictions = learner.predict(X_raw)\n",
        "is_correct = (predictions == Y_raw)\n"
      ],
      "execution_count": 392,
      "outputs": []
    },
    {
      "cell_type": "code",
      "metadata": {
        "colab": {
          "base_uri": "https://localhost:8080/"
        },
        "id": "GawgWDk1g2Ni",
        "outputId": "d3f004b2-1b25-481f-bf8b-3514feb5b7f3"
      },
      "source": [
        "print(is_correct)"
      ],
      "execution_count": 393,
      "outputs": [
        {
          "output_type": "stream",
          "text": [
            "[ True  True  True ... False  True False]\n"
          ],
          "name": "stdout"
        }
      ]
    },
    {
      "cell_type": "code",
      "metadata": {
        "id": "oi3Ifd8Sg2Ni"
      },
      "source": [
        "# Record our learner's score on the raw data.\n",
        "unqueried_score = learner.score(X_raw, Y_raw)"
      ],
      "execution_count": 394,
      "outputs": []
    },
    {
      "cell_type": "code",
      "metadata": {
        "colab": {
          "base_uri": "https://localhost:8080/"
        },
        "id": "bKZ1IEXgg2Nj",
        "outputId": "5a94bbdf-b2f4-4c2f-e233-d416c38830e8"
      },
      "source": [
        "print(unqueried_score)"
      ],
      "execution_count": 395,
      "outputs": [
        {
          "output_type": "stream",
          "text": [
            "0.347\n"
          ],
          "name": "stdout"
        }
      ]
    },
    {
      "cell_type": "code",
      "metadata": {
        "colab": {
          "base_uri": "https://localhost:8080/"
        },
        "id": "dn2zkTvGg2Nj",
        "outputId": "686e58aa-3644-4649-8709-138fc6c848a7"
      },
      "source": [
        "N_RAW_SAMPLES = X_pool.shape[0]\n",
        "N_QUERIES = N_RAW_SAMPLES // BATCH_SIZE\n",
        "print(N_RAW_SAMPLES)\n",
        "print(N_QUERIES)"
      ],
      "execution_count": 396,
      "outputs": [
        {
          "output_type": "stream",
          "text": [
            "8784\n",
            "21\n"
          ],
          "name": "stdout"
        }
      ]
    },
    {
      "cell_type": "code",
      "metadata": {
        "colab": {
          "base_uri": "https://localhost:8080/"
        },
        "id": "t4C_2lnvg2Nj",
        "outputId": "0a409863-4a3a-4961-8e73-9e4ef578e11f"
      },
      "source": [
        "performance_history = [unqueried_score]\n",
        "print(performance_history)"
      ],
      "execution_count": 397,
      "outputs": [
        {
          "output_type": "stream",
          "text": [
            "[0.347]\n"
          ],
          "name": "stdout"
        }
      ]
    },
    {
      "cell_type": "markdown",
      "metadata": {
        "id": "TWW9uh_pg2Nj"
      },
      "source": [
        "## The active learning loop"
      ]
    },
    {
      "cell_type": "code",
      "metadata": {
        "colab": {
          "base_uri": "https://localhost:8080/"
        },
        "id": "s36L3oqng2Nj",
        "outputId": "763d90fa-e937-4c2c-e9ab-16d474b02a4c"
      },
      "source": [
        "for index in range(N_QUERIES):\n",
        "    query_index, query_instance = learner.query(X_pool)\n",
        "\n",
        "    # Teach our ActiveLearner model the record it has requested.\n",
        "    X, y = X_pool[query_index], y_pool[query_index]\n",
        "    learner.teach(X=X, y=y)\n",
        "\n",
        "    # Remove the queried instance from the unlabeled pool.\n",
        "    X_pool = np.delete(X_pool, query_index, axis=0)\n",
        "    y_pool = np.delete(y_pool, query_index)\n",
        "\n",
        "    # Calculate and report our model's accuracy.\n",
        "    model_accuracy = learner.score(X_raw, Y_raw)\n",
        "    print('Accuracy after query {n}: {acc:0.4f}'.format(n=index + 1, acc=model_accuracy))\n",
        "    # Save our model's performance for plotting.\n",
        "    performance_history.append(model_accuracy)\n",
        "   \n"
      ],
      "execution_count": 398,
      "outputs": [
        {
          "output_type": "stream",
          "text": [
            "Accuracy after query 1: 0.3880\n",
            "Accuracy after query 2: 0.4296\n",
            "Accuracy after query 3: 0.4663\n",
            "Accuracy after query 4: 0.4999\n",
            "Accuracy after query 5: 0.5350\n",
            "Accuracy after query 6: 0.5686\n",
            "Accuracy after query 7: 0.6039\n",
            "Accuracy after query 8: 0.6382\n",
            "Accuracy after query 9: 0.6696\n",
            "Accuracy after query 10: 0.6982\n",
            "Accuracy after query 11: 0.7297\n",
            "Accuracy after query 12: 0.7608\n",
            "Accuracy after query 13: 0.7890\n",
            "Accuracy after query 14: 0.8138\n",
            "Accuracy after query 15: 0.8420\n",
            "Accuracy after query 16: 0.8688\n",
            "Accuracy after query 17: 0.8957\n",
            "Accuracy after query 18: 0.9219\n",
            "Accuracy after query 19: 0.9456\n",
            "Accuracy after query 20: 0.9681\n",
            "Accuracy after query 21: 0.9851\n"
          ],
          "name": "stdout"
        }
      ]
    },
    {
      "cell_type": "markdown",
      "metadata": {
        "id": "Oc6ojdgqg2Nj"
      },
      "source": [
        "We can visualize the accuracy during the training."
      ]
    },
    {
      "cell_type": "code",
      "metadata": {
        "scrolled": true,
        "colab": {
          "base_uri": "https://localhost:8080/",
          "height": 345
        },
        "id": "B40WMxZ4g2Nj",
        "outputId": "108305d2-b15b-4965-e87a-9cf443e7984e"
      },
      "source": [
        "with plt.style.context('seaborn-white'):\n",
        "    plt.figure(figsize=(10, 5))\n",
        "    plt.title('Accuracy of the classifier during the active learning')\n",
        "    plt.plot(range(N_QUERIES+1), performance_history)\n",
        "    plt.scatter(range(N_QUERIES+1), performance_history)\n",
        "    plt.xlabel('number of queries')\n",
        "    plt.ylabel('accuracy')\n",
        "    plt.show()"
      ],
      "execution_count": 399,
      "outputs": [
        {
          "output_type": "display_data",
          "data": {
            "image/png": "[encoded data removed]",
            "text/plain": [
              "<Figure size 720x360 with 1 Axes>"
            ]
          },
          "metadata": {
            "tags": []
          }
        }
      ]
    },
    {
      "cell_type": "code",
      "metadata": {
        "id": "e9C2s_iQzsae",
        "outputId": "5fee716d-d259-4455-c44f-ab1bd7ecfe09",
        "colab": {
          "base_uri": "https://localhost:8080/"
        }
      },
      "source": [
        "predictions = learner.predict(X_raw)\n",
        "is_correct = (predictions == Y_raw)\n",
        "np.count_nonzero(is_correct)"
      ],
      "execution_count": 403,
      "outputs": [
        {
          "output_type": "execute_result",
          "data": {
            "text/plain": [
              "9851"
            ]
          },
          "metadata": {
            "tags": []
          },
          "execution_count": 403
        }
      ]
    }
  ]
}