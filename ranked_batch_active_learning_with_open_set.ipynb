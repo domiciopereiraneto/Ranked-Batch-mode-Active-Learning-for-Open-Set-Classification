{
 "cells": [
  {
   "cell_type": "markdown",
   "metadata": {},
   "source": [
    "# Ranked-batch Active Learning with Open-set"
   ]
  },
  {
   "cell_type": "code",
   "execution_count": 1,
   "metadata": {},
   "outputs": [],
   "source": [
    "import numpy as np\n",
    "import math\n",
    "\n",
    "from modAL.models import ActiveLearner\n",
    "from modAL.uncertainty import uncertainty_sampling\n",
    "\n",
    "from sklearn.model_selection import train_test_split\n",
    "from sklearn.decomposition import PCA\n",
    "from functools import partial\n",
    "from modAL.batch import uncertainty_batch_sampling\n",
    "\n",
    "from IPython import display\n",
    "from matplotlib import pyplot as plt\n",
    "%matplotlib inline\n",
    "\n",
    "from openkneighbors import KNeighborsClassifierOpenSet"
   ]
  },
  {
   "cell_type": "markdown",
   "metadata": {},
   "source": [
    "### Auxiliary functions"
   ]
  },
  {
   "cell_type": "code",
   "execution_count": 2,
   "metadata": {},
   "outputs": [],
   "source": [
    "# imports the cifar files\n",
    "def unpickle(file):\n",
    "    import pickle\n",
    "    with open(file, 'rb') as fo:\n",
    "        dict = pickle.load(fo, encoding='bytes')\n",
    "    return dict"
   ]
  },
  {
   "cell_type": "code",
   "execution_count": 3,
   "metadata": {},
   "outputs": [],
   "source": [
    "# returns an image data, its label and the label's name of the image at index im_idx\n",
    "def cifar10_img_info(data, meta, im_idx=0):\n",
    "    im = data[b'data'][im_idx, :]\n",
    "\n",
    "    im_r = im[0:1024].reshape(32, 32)\n",
    "    im_g = im[1024:2048].reshape(32, 32)\n",
    "    im_b = im[2048:].reshape(32, 32)\n",
    "\n",
    "    img = np.dstack((im_r, im_g, im_b))\n",
    "    label = data[b'labels'][im_idx]\n",
    "    category = meta[b'label_names'][data[b'labels'][im_idx]]\n",
    "\n",
    "    return img, label, category"
   ]
  },
  {
   "cell_type": "code",
   "execution_count": 4,
   "metadata": {},
   "outputs": [],
   "source": [
    "# reshapes a image from a row vector to a rgb array\n",
    "def img_reshape(im):\n",
    "    im_r = im[0:1024].reshape(32, 32)\n",
    "    im_g = im[1024:2048].reshape(32, 32)\n",
    "    im_b = im[2048:].reshape(32, 32)\n",
    "\n",
    "    img = np.dstack((im_r, im_g, im_b))\n",
    "    \n",
    "    return img"
   ]
  },
  {
   "cell_type": "code",
   "execution_count": 5,
   "metadata": {},
   "outputs": [],
   "source": [
    "# separates the samples and the labels from the batch to the X and y variables\n",
    "def batch_to_xy(batch):\n",
    "    X = batch[b\"data\"]\n",
    "    y = batch[b\"labels\"]\n",
    "    y = np.array(y)\n",
    "    y.reshape(y.shape[0])\n",
    "    return X, y"
   ]
  },
  {
   "cell_type": "markdown",
   "metadata": {},
   "source": [
    "### Importing and preparing the dataset"
   ]
  },
  {
   "cell_type": "code",
   "execution_count": 6,
   "metadata": {},
   "outputs": [],
   "source": [
    "# batch with 10000 examples\n",
    "batch1 = unpickle(\"cifar-10-batches-py/data_batch_1\")\n",
    "# meta has the labels' names\n",
    "meta = unpickle(\"cifar-10-batches-py/batches.meta\")"
   ]
  },
  {
   "cell_type": "markdown",
   "metadata": {},
   "source": [
    "#### Example from the dataset"
   ]
  },
  {
   "cell_type": "code",
   "execution_count": 7,
   "metadata": {},
   "outputs": [],
   "source": [
    "# change this to see another example\n",
    "img_idx = 45"
   ]
  },
  {
   "cell_type": "code",
   "execution_count": 8,
   "metadata": {},
   "outputs": [],
   "source": [
    "img_ex, label_ex, category_ex = cifar10_img_info(batch1, meta, img_idx)"
   ]
  },
  {
   "cell_type": "code",
   "execution_count": 9,
   "metadata": {},
   "outputs": [
    {
     "data": {
      "text/plain": [
       "<matplotlib.image.AxesImage at 0x7fae86d66be0>"
      ]
     },
     "execution_count": 9,
     "metadata": {},
     "output_type": "execute_result"
    },
    {
     "data": {
      "image/png": "[encoded data removed]",
      "text/plain": [
       "<Figure size 432x288 with 1 Axes>"
      ]
     },
     "metadata": {
      "needs_background": "light"
     },
     "output_type": "display_data"
    }
   ],
   "source": [
    "plt.imshow(img_ex)"
   ]
  },
  {
   "cell_type": "code",
   "execution_count": 10,
   "metadata": {},
   "outputs": [
    {
     "name": "stdout",
     "output_type": "stream",
     "text": [
      "Label: 1\n",
      "Category: b'automobile'\n"
     ]
    }
   ],
   "source": [
    "print(\"Label: \"+str(label_ex)+\"\\nCategory: \"+str(category_ex))"
   ]
  },
  {
   "cell_type": "markdown",
   "metadata": {},
   "source": [
    "#### Preparing X and y"
   ]
  },
  {
   "cell_type": "code",
   "execution_count": 11,
   "metadata": {},
   "outputs": [],
   "source": [
    "X_raw, Y_raw = batch_to_xy(batch1)"
   ]
  },
  {
   "cell_type": "code",
   "execution_count": 12,
   "metadata": {},
   "outputs": [
    {
     "data": {
      "text/plain": [
       "(10000, 3072)"
      ]
     },
     "execution_count": 12,
     "metadata": {},
     "output_type": "execute_result"
    }
   ],
   "source": [
    "X_raw.shape"
   ]
  },
  {
   "cell_type": "code",
   "execution_count": 13,
   "metadata": {},
   "outputs": [
    {
     "data": {
      "text/plain": [
       "(10000,)"
      ]
     },
     "execution_count": 13,
     "metadata": {},
     "output_type": "execute_result"
    }
   ],
   "source": [
    "Y_raw.shape"
   ]
  },
  {
   "cell_type": "code",
   "execution_count": 14,
   "metadata": {},
   "outputs": [],
   "source": [
    "#Apply PCA to reduce the number of features\n",
    "RANDOM_STATE_SEED = 123\n",
    "np.random.seed(RANDOM_STATE_SEED)\n",
    "pca = PCA(n_components=99, random_state=RANDOM_STATE_SEED)\n",
    "tf_X = pca.fit_transform(X=X_raw)"
   ]
  },
  {
   "cell_type": "code",
   "execution_count": 15,
   "metadata": {},
   "outputs": [
    {
     "data": {
      "text/plain": [
       "(10000, 99)"
      ]
     },
     "execution_count": 15,
     "metadata": {},
     "output_type": "execute_result"
    }
   ],
   "source": [
    "tf_X.shape"
   ]
  },
  {
   "cell_type": "code",
   "execution_count": 16,
   "metadata": {},
   "outputs": [],
   "source": [
    "X_raw = tf_X"
   ]
  },
  {
   "cell_type": "code",
   "execution_count": 17,
   "metadata": {},
   "outputs": [],
   "source": [
    "# now we remove two classes from the dataset\n",
    "unknown1 = 8\n",
    "unknown2 = 9\n",
    "u1_idx = Y_raw == unknown1\n",
    "u2_idx = Y_raw == unknown2\n",
    "u_idx = u1_idx + u2_idx\n",
    "X_raw_closed = np.delete(X_raw, u_idx, axis=0)\n",
    "y_raw_closed = np.delete(Y_raw, u_idx, axis=0)"
   ]
  },
  {
   "cell_type": "code",
   "execution_count": 18,
   "metadata": {},
   "outputs": [],
   "source": [
    "Y_raw_new = Y_raw\n",
    "# -1 is the unknown class label\n",
    "Y_raw_new[u_idx] = -1;"
   ]
  },
  {
   "cell_type": "code",
   "execution_count": 19,
   "metadata": {},
   "outputs": [],
   "source": [
    "# Isolate our examples for our labeled dataset.\n",
    "n_labeled = X_raw_closed.shape[0]   #Number of samples\n",
    "training_indices = np.random.randint(low=0, high=n_labeled, size=int(n_labeled*0.75))"
   ]
  },
  {
   "cell_type": "code",
   "execution_count": 20,
   "metadata": {},
   "outputs": [
    {
     "data": {
      "text/plain": [
       "(5995, 99)"
      ]
     },
     "execution_count": 20,
     "metadata": {},
     "output_type": "execute_result"
    }
   ],
   "source": [
    "X_train = X_raw_closed[training_indices]\n",
    "y_train = y_raw_closed[training_indices]\n",
    "X_train.shape"
   ]
  },
  {
   "cell_type": "code",
   "execution_count": 21,
   "metadata": {},
   "outputs": [],
   "source": [
    "# Isolate the non-training examples we'll be querying.\n",
    "X_pool = np.delete(X_raw_closed, training_indices, axis=0)\n",
    "y_pool = np.delete(y_raw_closed, training_indices, axis=0)"
   ]
  },
  {
   "cell_type": "code",
   "execution_count": 22,
   "metadata": {},
   "outputs": [
    {
     "data": {
      "text/plain": [
       "(3771, 99)"
      ]
     },
     "execution_count": 22,
     "metadata": {},
     "output_type": "execute_result"
    }
   ],
   "source": [
    "X_pool.shape"
   ]
  },
  {
   "cell_type": "markdown",
   "metadata": {},
   "source": [
    "### Initializing the learner"
   ]
  },
  {
   "cell_type": "code",
   "execution_count": 23,
   "metadata": {},
   "outputs": [],
   "source": [
    "knn = KNeighborsClassifierOpenSet(n_neighbors_os=3, weights_os='distance')"
   ]
  },
  {
   "cell_type": "code",
   "execution_count": 24,
   "metadata": {},
   "outputs": [],
   "source": [
    "# Pre-set our batch sampling to retrieve BATCH_SIZE samples at a time.\n",
    "BATCH_SIZE = 10\n",
    "preset_batch = partial(uncertainty_batch_sampling, n_instances=BATCH_SIZE)"
   ]
  },
  {
   "cell_type": "code",
   "execution_count": 25,
   "metadata": {},
   "outputs": [],
   "source": [
    "learner = ActiveLearner(\n",
    "    estimator=knn,\n",
    "    X_training=X_train,\n",
    "    y_training=y_train,\n",
    "    query_strategy=preset_batch\n",
    ")"
   ]
  },
  {
   "cell_type": "code",
   "execution_count": 26,
   "metadata": {},
   "outputs": [
    {
     "name": "stdout",
     "output_type": "stream",
     "text": [
      "[ True  True  True ...  True  True False]\n"
     ]
    }
   ],
   "source": [
    "# Isolate the data we'll need for plotting.\n",
    "predictions = learner.predict(X_raw_closed)\n",
    "is_correct = (predictions == y_raw_closed)\n",
    "print(is_correct)"
   ]
  },
  {
   "cell_type": "code",
   "execution_count": 27,
   "metadata": {},
   "outputs": [
    {
     "name": "stdout",
     "output_type": "stream",
     "text": [
      "0.6861396047035276\n"
     ]
    }
   ],
   "source": [
    "# closed set score\n",
    "unqueried_score = learner.score(X_raw_closed, y_raw_closed)\n",
    "print(unqueried_score)"
   ]
  },
  {
   "cell_type": "code",
   "execution_count": 28,
   "metadata": {},
   "outputs": [],
   "source": [
    "# setting the open set classifier threshold\n",
    "learner.estimator.set_threshold(unqueried_score)"
   ]
  },
  {
   "cell_type": "code",
   "execution_count": 29,
   "metadata": {},
   "outputs": [
    {
     "name": "stdout",
     "output_type": "stream",
     "text": [
      "0.5485\n"
     ]
    }
   ],
   "source": [
    "# open set score\n",
    "open_score = learner.estimator.score_open_set(X_raw, Y_raw_new)\n",
    "print(open_score)"
   ]
  },
  {
   "cell_type": "code",
   "execution_count": 30,
   "metadata": {},
   "outputs": [],
   "source": [
    "N_QUERIES = 20"
   ]
  },
  {
   "cell_type": "code",
   "execution_count": 32,
   "metadata": {},
   "outputs": [
    {
     "name": "stdout",
     "output_type": "stream",
     "text": [
      "[0.6861396047035276]\n",
      "[0.5485]\n"
     ]
    }
   ],
   "source": [
    "performance_history = [unqueried_score]\n",
    "open_performance_history = [open_score]\n",
    "print(performance_history)\n",
    "print(open_performance_history)"
   ]
  },
  {
   "cell_type": "markdown",
   "metadata": {},
   "source": [
    "### Active learning loop"
   ]
  },
  {
   "cell_type": "code",
   "execution_count": 33,
   "metadata": {},
   "outputs": [
    {
     "name": "stdout",
     "output_type": "stream",
     "text": [
      "Closed set accuracy after query 1: 0.6870\n",
      "Open set accuracy after query 1: 0.5492\n",
      "Closed set accuracy after query 2: 0.6883\n",
      "Open set accuracy after query 2: 0.5502\n",
      "Closed set accuracy after query 3: 0.6891\n",
      "Open set accuracy after query 3: 0.5509\n",
      "Closed set accuracy after query 4: 0.6900\n",
      "Open set accuracy after query 4: 0.5516\n",
      "Closed set accuracy after query 5: 0.6909\n",
      "Open set accuracy after query 5: 0.5523\n",
      "Closed set accuracy after query 6: 0.6918\n",
      "Open set accuracy after query 6: 0.5530\n",
      "Closed set accuracy after query 7: 0.6930\n",
      "Open set accuracy after query 7: 0.5540\n",
      "Closed set accuracy after query 8: 0.6941\n",
      "Open set accuracy after query 8: 0.5549\n",
      "Closed set accuracy after query 9: 0.6951\n",
      "Open set accuracy after query 9: 0.5557\n",
      "Closed set accuracy after query 10: 0.6963\n",
      "Open set accuracy after query 10: 0.5566\n",
      "Closed set accuracy after query 11: 0.6974\n",
      "Open set accuracy after query 11: 0.5575\n",
      "Closed set accuracy after query 12: 0.6983\n",
      "Open set accuracy after query 12: 0.5582\n",
      "Closed set accuracy after query 13: 0.6994\n",
      "Open set accuracy after query 13: 0.5591\n",
      "Closed set accuracy after query 14: 0.7004\n",
      "Open set accuracy after query 14: 0.5599\n",
      "Closed set accuracy after query 15: 0.7012\n",
      "Open set accuracy after query 15: 0.5605\n",
      "Closed set accuracy after query 16: 0.7022\n",
      "Open set accuracy after query 16: 0.5613\n",
      "Closed set accuracy after query 17: 0.7033\n",
      "Open set accuracy after query 17: 0.5622\n",
      "Closed set accuracy after query 18: 0.7042\n",
      "Open set accuracy after query 18: 0.5629\n",
      "Closed set accuracy after query 19: 0.7054\n",
      "Open set accuracy after query 19: 0.5639\n",
      "Closed set accuracy after query 20: 0.7060\n",
      "Open set accuracy after query 20: 0.5644\n"
     ]
    }
   ],
   "source": [
    "for index in range(N_QUERIES):\n",
    "    query_index, query_instance = learner.query(X_pool)\n",
    "\n",
    "    # Teach our ActiveLearner model the record it has requested.\n",
    "    X, y = X_pool[query_index], y_pool[query_index]\n",
    "    learner.teach(X=X, y=y)\n",
    "\n",
    "    # Remove the queried instance from the unlabeled pool.\n",
    "    X_pool = np.delete(X_pool, query_index, axis=0)\n",
    "    y_pool = np.delete(y_pool, query_index)\n",
    "\n",
    "    # Calculate and report our model's accuracy.\n",
    "    model_accuracy = learner.score(X_raw_closed, y_raw_closed)\n",
    "    learner.estimator.set_threshold(model_accuracy)\n",
    "    model_open_accuracy = learner.estimator.score_open_set(X_raw, Y_raw_new)\n",
    "    print('Closed set accuracy after query {n}: {acc:0.4f}'.format(n=index + 1, acc=model_accuracy))\n",
    "    print('Open set accuracy after query {n}: {acc:0.4f}'.format(n=index + 1, acc=model_open_accuracy))\n",
    "    # Save our model's performance for plotting.\n",
    "    performance_history.append(model_accuracy)\n",
    "    open_performance_history.append(model_open_accuracy)"
   ]
  },
  {
   "cell_type": "code",
   "execution_count": 34,
   "metadata": {},
   "outputs": [
    {
     "data": {
      "image/png": "[encoded data removed]",
      "text/plain": [
       "<Figure size 720x360 with 1 Axes>"
      ]
     },
     "metadata": {},
     "output_type": "display_data"
    }
   ],
   "source": [
    "with plt.style.context('seaborn-white'):\n",
    "    plt.figure(figsize=(10, 5))\n",
    "    plt.title('Accuracy of the classifier during the active learning')\n",
    "    plt.plot(range(N_QUERIES+1), performance_history)\n",
    "    plt.scatter(range(N_QUERIES+1), performance_history)\n",
    "    plt.plot(range(N_QUERIES+1), open_performance_history, 'g')\n",
    "    plt.scatter(range(N_QUERIES+1), open_performance_history, c='g')\n",
    "    plt.legend(['Closed set accuracy','Open set accuracy'], fontsize = 'large')\n",
    "    plt.xlabel('number of queries')\n",
    "    plt.ylabel('accuracy')\n",
    "    plt.show()"
   ]
  },
  {
   "cell_type": "markdown",
   "metadata": {},
   "source": [
    "### Unknown class detection"
   ]
  },
  {
   "cell_type": "code",
   "execution_count": 43,
   "metadata": {},
   "outputs": [],
   "source": [
    "X_unknown = X_raw[u_idx]\n",
    "y_unknown = Y_raw_new[u_idx]"
   ]
  },
  {
   "cell_type": "code",
   "execution_count": 44,
   "metadata": {},
   "outputs": [
    {
     "data": {
      "text/plain": [
       "2006"
      ]
     },
     "execution_count": 44,
     "metadata": {},
     "output_type": "execute_result"
    }
   ],
   "source": [
    "X_unknown.shape[0]"
   ]
  },
  {
   "cell_type": "code",
   "execution_count": 45,
   "metadata": {},
   "outputs": [],
   "source": [
    "unknown_classes_prediction = learner.estimator.predict_open(X_unknown)"
   ]
  },
  {
   "cell_type": "code",
   "execution_count": 46,
   "metadata": {},
   "outputs": [],
   "source": [
    "is_correct = unknown_classes_prediction == y_unknown"
   ]
  },
  {
   "cell_type": "code",
   "execution_count": 49,
   "metadata": {},
   "outputs": [
    {
     "name": "stdout",
     "output_type": "stream",
     "text": [
      "1390\n"
     ]
    }
   ],
   "source": [
    "# number of correct unknown classes detections \n",
    "correct = np.count_nonzero(is_correct)\n",
    "print(correct)"
   ]
  },
  {
   "cell_type": "code",
   "execution_count": 48,
   "metadata": {},
   "outputs": [
    {
     "data": {
      "text/plain": [
       "0.6929212362911267"
      ]
     },
     "execution_count": 48,
     "metadata": {},
     "output_type": "execute_result"
    }
   ],
   "source": [
    "# accuracy\n",
    "correct/X_unknown.shape[0]"
   ]
  },
  {
   "cell_type": "code",
   "execution_count": null,
   "metadata": {},
   "outputs": [],
   "source": []
  }
 ],
 "metadata": {
  "kernelspec": {
   "display_name": "Python 3",
   "language": "python",
   "name": "python3"
  },
  "language_info": {
   "codemirror_mode": {
    "name": "ipython",
    "version": 3
   },
   "file_extension": ".py",
   "mimetype": "text/x-python",
   "name": "python",
   "nbconvert_exporter": "python",
   "pygments_lexer": "ipython3",
   "version": "3.8.2"
  }
 },
 "nbformat": 4,
 "nbformat_minor": 4
}
