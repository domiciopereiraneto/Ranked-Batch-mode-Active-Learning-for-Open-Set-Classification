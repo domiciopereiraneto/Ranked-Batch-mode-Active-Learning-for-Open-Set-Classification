{
 "cells": [
  {
   "cell_type": "markdown",
   "metadata": {
    "id": "uMoJWCztg2Nf"
   },
   "source": [
    "# Pool-based sampling with CIFAR10"
   ]
  },
  {
   "cell_type": "code",
   "execution_count": 1,
   "metadata": {
    "colab": {
     "base_uri": "https://localhost:8080/"
    },
    "id": "sCbjhs0shXpr",
    "outputId": "5bb98ea1-41ad-415e-8169-39d1941f4359"
   },
   "outputs": [
    {
     "name": "stdout",
     "output_type": "stream",
     "text": [
      "Collecting modal\n",
      "  Downloading https://files.pythonhosted.org/packages/8d/fa/b42163a226126ac4cbef2d421d861f8c7be8966a1cbb0d2dc2b57d350adf/modAL-0.4.0-py3-none-any.whl\n",
      "Requirement already satisfied: scikit-learn>=0.18 in /usr/local/lib/python3.6/dist-packages (from modal) (0.22.2.post1)\n",
      "Requirement already satisfied: pandas>=1.1.0 in /usr/local/lib/python3.6/dist-packages (from modal) (1.1.4)\n",
      "Requirement already satisfied: numpy>=1.13 in /usr/local/lib/python3.6/dist-packages (from modal) (1.18.5)\n",
      "Requirement already satisfied: scipy>=0.18 in /usr/local/lib/python3.6/dist-packages (from modal) (1.4.1)\n",
      "Requirement already satisfied: joblib>=0.11 in /usr/local/lib/python3.6/dist-packages (from scikit-learn>=0.18->modal) (0.17.0)\n",
      "Requirement already satisfied: pytz>=2017.2 in /usr/local/lib/python3.6/dist-packages (from pandas>=1.1.0->modal) (2018.9)\n",
      "Requirement already satisfied: python-dateutil>=2.7.3 in /usr/local/lib/python3.6/dist-packages (from pandas>=1.1.0->modal) (2.8.1)\n",
      "Requirement already satisfied: six>=1.5 in /usr/local/lib/python3.6/dist-packages (from python-dateutil>=2.7.3->pandas>=1.1.0->modal) (1.15.0)\n",
      "Installing collected packages: modal\n",
      "Successfully installed modal-0.4.0\n"
     ]
    }
   ],
   "source": [
    "pip install modal"
   ]
  },
  {
   "cell_type": "code",
   "execution_count": 2,
   "metadata": {
    "id": "lBe4P5yig2Nf"
   },
   "outputs": [],
   "source": [
    "import numpy as np\n",
    "\n",
    "from modAL.models import ActiveLearner\n",
    "from modAL.uncertainty import uncertainty_sampling\n",
    "\n",
    "from sklearn.datasets import load_digits\n",
    "from sklearn.model_selection import train_test_split\n",
    "from sklearn.ensemble import RandomForestClassifier\n",
    "from sklearn.svm import SVC\n",
    "from sklearn.decomposition import PCA\n",
    "from sklearn.neighbors import KNeighborsClassifier\n",
    "from functools import partial\n",
    "from modAL.batch import uncertainty_batch_sampling\n",
    "\n",
    "from IPython import display\n",
    "from matplotlib import pyplot as plt\n",
    "%matplotlib inline"
   ]
  },
  {
   "cell_type": "code",
   "execution_count": 3,
   "metadata": {
    "id": "9xdJK2a0g2Nf"
   },
   "outputs": [],
   "source": [
    "# imports the cifar files\n",
    "def unpickle(file):\n",
    "    import pickle\n",
    "    with open(file, 'rb') as fo:\n",
    "        dict = pickle.load(fo, encoding='bytes')\n",
    "    return dict"
   ]
  },
  {
   "cell_type": "code",
   "execution_count": 4,
   "metadata": {
    "id": "NNzRjTedg2Nf"
   },
   "outputs": [],
   "source": [
    "# returns a image rgb array, label and label's name of the image with index im_idx\n",
    "def cifar10_img_info(data, meta, im_idx=0):\n",
    "    im = data[b'data'][im_idx, :]\n",
    "\n",
    "    im_r = im[0:1024].reshape(32, 32)\n",
    "    im_g = im[1024:2048].reshape(32, 32)\n",
    "    im_b = im[2048:].reshape(32, 32)\n",
    "\n",
    "    img = np.dstack((im_r, im_g, im_b))\n",
    "    label = data[b'labels'][im_idx]\n",
    "    category = meta[b'label_names'][data[b'labels'][im_idx]]\n",
    "\n",
    "    return img, label, category"
   ]
  },
  {
   "cell_type": "code",
   "execution_count": 5,
   "metadata": {
    "id": "ubkIuIzBg2Nf"
   },
   "outputs": [],
   "source": [
    "# returns a image rgb array\n",
    "def img_reshape(im):\n",
    "    im_r = im[0:1024].reshape(32, 32)\n",
    "    im_g = im[1024:2048].reshape(32, 32)\n",
    "    im_b = im[2048:].reshape(32, 32)\n",
    "\n",
    "    img = np.dstack((im_r, im_g, im_b))\n",
    "    \n",
    "    return img"
   ]
  },
  {
   "cell_type": "code",
   "execution_count": 6,
   "metadata": {
    "id": "o1yvXspvg2Nf"
   },
   "outputs": [],
   "source": [
    "# returns X and y of the dataset, X.shape = (nº of samples x features) and y.shape = (nº of samples)\n",
    "def batch_to_xy(batch):\n",
    "    X = batch[b\"data\"]\n",
    "    y = batch[b\"labels\"]\n",
    "    y = np.array(y)\n",
    "    y.reshape(y.shape[0])\n",
    "    return X, y"
   ]
  },
  {
   "cell_type": "markdown",
   "metadata": {
    "id": "IGcnPC1sg2Nf"
   },
   "source": [
    "## The dataset"
   ]
  },
  {
   "cell_type": "code",
   "execution_count": 10,
   "metadata": {
    "id": "yL8rXtczg2Nf"
   },
   "outputs": [],
   "source": [
    "# batch with 10000 examples\n",
    "batch1 = unpickle(\"data_batch_1\")\n",
    "# meta has the labels' names\n",
    "meta = unpickle(\"batches.meta\")"
   ]
  },
  {
   "cell_type": "markdown",
   "metadata": {
    "id": "HL5himZBg2Nf"
   },
   "source": [
    "Showing a example from the batch"
   ]
  },
  {
   "cell_type": "code",
   "execution_count": 11,
   "metadata": {
    "id": "9Ps8dh_Mg2Nf"
   },
   "outputs": [],
   "source": [
    "# change this to see another example\n",
    "img_idx = 45"
   ]
  },
  {
   "cell_type": "code",
   "execution_count": 12,
   "metadata": {
    "id": "T3S1OC1hg2Nf"
   },
   "outputs": [],
   "source": [
    "img_ex, label_ex, category_ex = cifar10_img_info(batch1, meta, img_idx)"
   ]
  },
  {
   "cell_type": "code",
   "execution_count": 13,
   "metadata": {
    "colab": {
     "base_uri": "https://localhost:8080/",
     "height": 283
    },
    "id": "xXp-P41ag2Ng",
    "outputId": "5aeee476-13ba-4f36-dc75-65f35c0f5ee7"
   },
   "outputs": [
    {
     "data": {
      "text/plain": [
       "<matplotlib.image.AxesImage at 0x7fec71c8fc50>"
      ]
     },
     "execution_count": 13,
     "metadata": {
      "tags": []
     },
     "output_type": "execute_result"
    },
    {
     "data": {
      "image/png": "[encoded data removed]",
      "text/plain": [
       "<Figure size 432x288 with 1 Axes>"
      ]
     },
     "metadata": {
      "needs_background": "light",
      "tags": []
     },
     "output_type": "display_data"
    }
   ],
   "source": [
    "plt.imshow(img_ex)"
   ]
  },
  {
   "cell_type": "code",
   "execution_count": 14,
   "metadata": {
    "colab": {
     "base_uri": "https://localhost:8080/"
    },
    "id": "zTrM7xwHg2Ng",
    "outputId": "8c1cb1f7-8c3a-4af1-a085-21aa75291639"
   },
   "outputs": [
    {
     "name": "stdout",
     "output_type": "stream",
     "text": [
      "Label: 1\n",
      "Category: b'automobile'\n"
     ]
    }
   ],
   "source": [
    "print(\"Label: \"+str(label_ex)+\"\\nCategory: \"+str(category_ex))"
   ]
  },
  {
   "cell_type": "markdown",
   "metadata": {
    "id": "CKhEYS6pg2Ng"
   },
   "source": [
    "\n",
    "# **Preparing the dataset**"
   ]
  },
  {
   "cell_type": "code",
   "execution_count": 16,
   "metadata": {
    "id": "CSRDdRHMg2Ng"
   },
   "outputs": [],
   "source": [
    "X_raw, Y_raw = batch_to_xy(batch1)"
   ]
  },
  {
   "cell_type": "code",
   "execution_count": 17,
   "metadata": {
    "colab": {
     "base_uri": "https://localhost:8080/"
    },
    "id": "INoC-_6Qg2Ng",
    "outputId": "fe2d8766-e687-4783-c2c2-4a48820b42f7"
   },
   "outputs": [
    {
     "data": {
      "text/plain": [
       "(10000, 3072)"
      ]
     },
     "execution_count": 17,
     "metadata": {
      "tags": []
     },
     "output_type": "execute_result"
    }
   ],
   "source": [
    "X_raw.shape"
   ]
  },
  {
   "cell_type": "code",
   "execution_count": 18,
   "metadata": {
    "colab": {
     "base_uri": "https://localhost:8080/"
    },
    "id": "c00JuAKng2Nh",
    "outputId": "d6fdaf15-b7e5-4f55-f6c0-3d1915554150"
   },
   "outputs": [
    {
     "data": {
      "text/plain": [
       "(10000,)"
      ]
     },
     "execution_count": 18,
     "metadata": {
      "tags": []
     },
     "output_type": "execute_result"
    }
   ],
   "source": [
    "Y_raw.shape"
   ]
  },
  {
   "cell_type": "code",
   "execution_count": 19,
   "metadata": {
    "id": "G5QE_Aqpg2Nh"
   },
   "outputs": [],
   "source": [
    "#APPLY PCA\n",
    "#https://towardsdatascience.com/integration-of-dimension-reduction-methods-and-neural-network-for-image-classification-96281963fe24\n",
    "#99% -> 658\n",
    "#95% -> 217\n",
    "#90% -> 99\n",
    "#80% -> 21\n",
    "RANDOM_STATE_SEED = 123\n",
    "np.random.seed(RANDOM_STATE_SEED)\n",
    "pca = PCA(n_components=21, random_state=RANDOM_STATE_SEED)\n",
    "tf_X = pca.fit_transform(X=X_raw)"
   ]
  },
  {
   "cell_type": "code",
   "execution_count": 20,
   "metadata": {
    "colab": {
     "base_uri": "https://localhost:8080/"
    },
    "id": "Znug_1l8g2Nh",
    "outputId": "3b947b9d-361e-482a-fd43-244da79e899e"
   },
   "outputs": [
    {
     "data": {
      "text/plain": [
       "(10000, 21)"
      ]
     },
     "execution_count": 20,
     "metadata": {
      "tags": []
     },
     "output_type": "execute_result"
    }
   ],
   "source": [
    "tf_X.shape"
   ]
  },
  {
   "cell_type": "code",
   "execution_count": 21,
   "metadata": {
    "colab": {
     "base_uri": "https://localhost:8080/"
    },
    "id": "mSZP-l6Ug2Nh",
    "outputId": "f71f28f9-a32f-4ee0-b1a7-d1a2d8a4b17f"
   },
   "outputs": [
    {
     "data": {
      "text/plain": [
       "(10000, 21)"
      ]
     },
     "execution_count": 21,
     "metadata": {
      "tags": []
     },
     "output_type": "execute_result"
    }
   ],
   "source": [
    "X_raw = tf_X\n",
    "X_raw.shape"
   ]
  },
  {
   "cell_type": "code",
   "execution_count": 22,
   "metadata": {
    "id": "byV37OOqg2Nh"
   },
   "outputs": [],
   "source": [
    "# Isolate our examples for our labeled dataset.\n",
    "n_labeled = X_raw.shape[0]   #Number of samples\n",
    "training_indices = np.random.randint(low=0, high=n_labeled + 1, size=1000)\n",
    "#print(training_indices)"
   ]
  },
  {
   "cell_type": "code",
   "execution_count": 23,
   "metadata": {
    "colab": {
     "base_uri": "https://localhost:8080/"
    },
    "id": "eHLz9uBHg2Nh",
    "outputId": "5766afd5-7e06-4149-f606-880ad53a9d56"
   },
   "outputs": [
    {
     "data": {
      "text/plain": [
       "(1000, 21)"
      ]
     },
     "execution_count": 23,
     "metadata": {
      "tags": []
     },
     "output_type": "execute_result"
    }
   ],
   "source": [
    "X_train = X_raw[training_indices]\n",
    "y_train = Y_raw[training_indices]\n",
    "X_train.shape"
   ]
  },
  {
   "cell_type": "code",
   "execution_count": 24,
   "metadata": {
    "id": "KtJ4KeCfg2Ni"
   },
   "outputs": [],
   "source": [
    "# Isolate the non-training examples we'll be querying.\n",
    "X_pool = np.delete(X_raw, training_indices, axis=0)\n",
    "y_pool = np.delete(Y_raw, training_indices, axis=0)"
   ]
  },
  {
   "cell_type": "code",
   "execution_count": 25,
   "metadata": {
    "colab": {
     "base_uri": "https://localhost:8080/"
    },
    "id": "JroQU2ieg2Ni",
    "outputId": "fdf9dab3-55e0-4c72-a751-0396465d5b1d"
   },
   "outputs": [
    {
     "data": {
      "text/plain": [
       "(9046, 21)"
      ]
     },
     "execution_count": 25,
     "metadata": {
      "tags": []
     },
     "output_type": "execute_result"
    }
   ],
   "source": [
    "X_pool.shape"
   ]
  },
  {
   "cell_type": "code",
   "execution_count": 26,
   "metadata": {
    "colab": {
     "base_uri": "https://localhost:8080/"
    },
    "id": "i_fVLRrjg2Ni",
    "outputId": "ae8aa913-dc03-4ca2-c6bd-39bbb3187821"
   },
   "outputs": [
    {
     "data": {
      "text/plain": [
       "(9046,)"
      ]
     },
     "execution_count": 26,
     "metadata": {
      "tags": []
     },
     "output_type": "execute_result"
    }
   ],
   "source": [
    "y_pool.shape"
   ]
  },
  {
   "cell_type": "code",
   "execution_count": 27,
   "metadata": {
    "id": "EbszQkXhg2Ni"
   },
   "outputs": [],
   "source": [
    "# Specify our core estimator.\n",
    "knn = KNeighborsClassifier(n_neighbors=3)"
   ]
  },
  {
   "cell_type": "code",
   "execution_count": 28,
   "metadata": {
    "id": "Jy7oss0Ug2Ni"
   },
   "outputs": [],
   "source": [
    "# Pre-set our batch sampling to retrieve 3 samples at a time.\n",
    "BATCH_SIZE = 400\n",
    "preset_batch = partial(uncertainty_batch_sampling, n_instances=BATCH_SIZE)"
   ]
  },
  {
   "cell_type": "markdown",
   "metadata": {
    "id": "dSDD0_P8g2Ni"
   },
   "source": [
    "## Initializing the learner"
   ]
  },
  {
   "cell_type": "code",
   "execution_count": 29,
   "metadata": {
    "id": "HUsJKVupg2Ni"
   },
   "outputs": [],
   "source": [
    "learner = ActiveLearner(\n",
    "    estimator=knn,\n",
    "    X_training=X_train,\n",
    "    y_training=y_train,\n",
    "    query_strategy=preset_batch\n",
    ")"
   ]
  },
  {
   "cell_type": "markdown",
   "metadata": {
    "id": "Rvdil78Bg2Ni"
   },
   "source": [
    "From the examples: \"We also set how many queries we want to make. The more the better! (Usually :) )\""
   ]
  },
  {
   "cell_type": "code",
   "execution_count": 30,
   "metadata": {
    "id": "RUyfYpJug2Ni"
   },
   "outputs": [],
   "source": [
    "# Isolate the data we'll need for plotting.\n",
    "predictions = learner.predict(X_raw)\n",
    "is_correct = (predictions == Y_raw)\n"
   ]
  },
  {
   "cell_type": "code",
   "execution_count": 31,
   "metadata": {
    "colab": {
     "base_uri": "https://localhost:8080/"
    },
    "id": "GawgWDk1g2Ni",
    "outputId": "6954b0c9-757e-4cd4-a6e3-e5180d54d1e5"
   },
   "outputs": [
    {
     "name": "stdout",
     "output_type": "stream",
     "text": [
      "[ True False  True ...  True False False]\n"
     ]
    }
   ],
   "source": [
    "print(is_correct)"
   ]
  },
  {
   "cell_type": "code",
   "execution_count": 32,
   "metadata": {
    "id": "oi3Ifd8Sg2Ni"
   },
   "outputs": [],
   "source": [
    "# Record our learner's score on the raw data.\n",
    "unqueried_score = learner.score(X_raw, Y_raw)"
   ]
  },
  {
   "cell_type": "code",
   "execution_count": 33,
   "metadata": {
    "colab": {
     "base_uri": "https://localhost:8080/"
    },
    "id": "bKZ1IEXgg2Nj",
    "outputId": "dca6a2d0-2ead-431c-9999-13077068c866"
   },
   "outputs": [
    {
     "name": "stdout",
     "output_type": "stream",
     "text": [
      "0.2844\n"
     ]
    }
   ],
   "source": [
    "print(unqueried_score)"
   ]
  },
  {
   "cell_type": "code",
   "execution_count": 38,
   "metadata": {
    "colab": {
     "base_uri": "https://localhost:8080/"
    },
    "id": "dn2zkTvGg2Nj",
    "outputId": "8421d190-84f7-4839-9e10-70ecac0dc2b6"
   },
   "outputs": [
    {
     "name": "stdout",
     "output_type": "stream",
     "text": [
      "9046\n",
      "22\n"
     ]
    }
   ],
   "source": [
    "N_RAW_SAMPLES = X_pool.shape[0]\n",
    "N_QUERIES = N_RAW_SAMPLES // BATCH_SIZE\n",
    "print(N_RAW_SAMPLES)\n",
    "print(N_QUERIES)"
   ]
  },
  {
   "cell_type": "code",
   "execution_count": 39,
   "metadata": {
    "colab": {
     "base_uri": "https://localhost:8080/"
    },
    "id": "t4C_2lnvg2Nj",
    "outputId": "2b575206-cc00-4e48-d529-6ac30240244f"
   },
   "outputs": [
    {
     "name": "stdout",
     "output_type": "stream",
     "text": [
      "[0.2844]\n"
     ]
    }
   ],
   "source": [
    "performance_history = [unqueried_score]\n",
    "print(performance_history)"
   ]
  },
  {
   "cell_type": "markdown",
   "metadata": {
    "id": "TWW9uh_pg2Nj"
   },
   "source": [
    "## The active learning loop"
   ]
  },
  {
   "cell_type": "code",
   "execution_count": 40,
   "metadata": {
    "colab": {
     "base_uri": "https://localhost:8080/"
    },
    "id": "s36L3oqng2Nj",
    "outputId": "7246fc87-063a-426f-ecd8-61ca6fed4923"
   },
   "outputs": [
    {
     "name": "stdout",
     "output_type": "stream",
     "text": [
      "Accuracy after query 1: 0.3047\n",
      "Accuracy after query 2: 0.3227\n",
      "Accuracy after query 3: 0.3422\n",
      "Accuracy after query 4: 0.3594\n",
      "Accuracy after query 5: 0.3767\n",
      "Accuracy after query 6: 0.3983\n",
      "Accuracy after query 7: 0.4130\n",
      "Accuracy after query 8: 0.4320\n",
      "Accuracy after query 9: 0.4457\n",
      "Accuracy after query 10: 0.4579\n",
      "Accuracy after query 11: 0.4721\n",
      "Accuracy after query 12: 0.4873\n",
      "Accuracy after query 13: 0.5044\n",
      "Accuracy after query 14: 0.5195\n",
      "Accuracy after query 15: 0.5306\n",
      "Accuracy after query 16: 0.5429\n",
      "Accuracy after query 17: 0.5530\n",
      "Accuracy after query 18: 0.5618\n",
      "Accuracy after query 19: 0.5716\n",
      "Accuracy after query 20: 0.5809\n",
      "Accuracy after query 21: 0.5903\n",
      "Accuracy after query 22: 0.5945\n"
     ]
    }
   ],
   "source": [
    "for index in range(N_QUERIES):\n",
    "    query_index, query_instance = learner.query(X_pool)\n",
    "\n",
    "    # Teach our ActiveLearner model the record it has requested.\n",
    "    X, y = X_pool[query_index], y_pool[query_index]\n",
    "    learner.teach(X=X, y=y)\n",
    "\n",
    "    # Remove the queried instance from the unlabeled pool.\n",
    "    X_pool = np.delete(X_pool, query_index, axis=0)\n",
    "    y_pool = np.delete(y_pool, query_index)\n",
    "\n",
    "    # Calculate and report our model's accuracy.\n",
    "    model_accuracy = learner.score(X_raw, Y_raw)\n",
    "    print('Accuracy after query {n}: {acc:0.4f}'.format(n=index + 1, acc=model_accuracy))\n",
    "    # Save our model's performance for plotting.\n",
    "    performance_history.append(model_accuracy)\n",
    "   \n"
   ]
  },
  {
   "cell_type": "code",
   "execution_count": 48,
   "metadata": {
    "colab": {
     "base_uri": "https://localhost:8080/"
    },
    "id": "X-dMv2Keqkjc",
    "outputId": "ea2c40a1-5ec6-43fb-de6d-ad9ee5d8a587"
   },
   "outputs": [
    {
     "data": {
      "text/plain": [
       "[0.2844,\n",
       " 0.3047,\n",
       " 0.3227,\n",
       " 0.3422,\n",
       " 0.3594,\n",
       " 0.3767,\n",
       " 0.3983,\n",
       " 0.413,\n",
       " 0.432,\n",
       " 0.4457,\n",
       " 0.4579,\n",
       " 0.4721,\n",
       " 0.4873,\n",
       " 0.5044,\n",
       " 0.5195,\n",
       " 0.5306,\n",
       " 0.5429,\n",
       " 0.553,\n",
       " 0.5618,\n",
       " 0.5716,\n",
       " 0.5809,\n",
       " 0.5903,\n",
       " 0.5945]"
      ]
     },
     "execution_count": 48,
     "metadata": {
      "tags": []
     },
     "output_type": "execute_result"
    }
   ],
   "source": [
    "performance_history"
   ]
  },
  {
   "cell_type": "markdown",
   "metadata": {
    "id": "Oc6ojdgqg2Nj"
   },
   "source": [
    "We can visualize the accuracy during the training."
   ]
  },
  {
   "cell_type": "code",
   "execution_count": 51,
   "metadata": {
    "colab": {
     "base_uri": "https://localhost:8080/",
     "height": 345
    },
    "id": "B40WMxZ4g2Nj",
    "outputId": "b01924a5-c4b3-4919-9423-744251386997",
    "scrolled": true
   },
   "outputs": [
    {
     "data": {
      "image/png": "[encoded data removed]",
      "text/plain": [
       "<Figure size 720x360 with 1 Axes>"
      ]
     },
     "metadata": {
      "tags": []
     },
     "output_type": "display_data"
    }
   ],
   "source": [
    "with plt.style.context('seaborn-white'):\n",
    "    plt.figure(figsize=(10, 5))\n",
    "    plt.title('Accuracy of the classifier during the active learning')\n",
    "    plt.plot(range(N_QUERIES+1), performance_history)\n",
    "    plt.scatter(range(N_QUERIES+1), performance_history)\n",
    "    plt.xlabel('number of queries')\n",
    "    plt.ylabel('accuracy')\n",
    "    plt.show()"
   ]
  }
 ],
 "metadata": {
  "colab": {
   "collapsed_sections": [],
   "name": "kneighborsBatch.ipynb",
   "provenance": [],
   "toc_visible": true
  },
  "kernelspec": {
   "display_name": "Python 3",
   "language": "python",
   "name": "python3"
  },
  "language_info": {
   "codemirror_mode": {
    "name": "ipython",
    "version": 3
   },
   "file_extension": ".py",
   "mimetype": "text/x-python",
   "name": "python",
   "nbconvert_exporter": "python",
   "pygments_lexer": "ipython3",
   "version": "3.8.5"
  }
 },
 "nbformat": 4,
 "nbformat_minor": 1
}
