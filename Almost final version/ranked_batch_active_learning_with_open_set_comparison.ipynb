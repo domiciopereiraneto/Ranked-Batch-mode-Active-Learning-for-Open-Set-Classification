{
 "cells": [
  {
   "cell_type": "markdown",
   "metadata": {},
   "source": [
    "# Ranked-batch Active Learning with Open-set\n",
    "\n",
    "Authors: Domicio Neto, Sérgio Machado\n",
    "\n",
    "This notebook contains the code used to test our approach. Here it is possible to train and test an Active Learner with a modified K-Nearest Neighbors estimator and with a Ranked Batch query strategy. \n",
    "\n",
    "It is possible to change and test other configurations, including modifying the batch size and the number of samples to be queried by the Active Learner and compare it to a baseline knn classifier."
   ]
  },
  {
   "cell_type": "code",
   "execution_count": 1,
   "metadata": {},
   "outputs": [],
   "source": [
    "import numpy as np\n",
    "import math\n",
    "\n",
    "from modAL.models import ActiveLearner\n",
    "from modAL.uncertainty import uncertainty_sampling\n",
    "\n",
    "from sklearn.model_selection import train_test_split\n",
    "from sklearn.decomposition import PCA\n",
    "from sklearn.metrics import f1_score\n",
    "from functools import partial\n",
    "from modAL.batch import uncertainty_batch_sampling\n",
    "\n",
    "from IPython import display\n",
    "from matplotlib import pyplot as plt\n",
    "%matplotlib inline\n",
    "\n",
    "from openkneighbors import KNeighborsClassifierOpenSet"
   ]
  },
  {
   "cell_type": "markdown",
   "metadata": {},
   "source": [
    "Place the **openkneighbors.py** script and the **cifar-10-batches-py** folder in the directory of this notebook."
   ]
  },
  {
   "cell_type": "markdown",
   "metadata": {},
   "source": [
    "### Experiment parameters"
   ]
  },
  {
   "cell_type": "markdown",
   "metadata": {},
   "source": [
    "You might want to change these parameters to reproduce our results or test your own configurations. Feel free to change other parts in this script."
   ]
  },
  {
   "cell_type": "code",
   "execution_count": 2,
   "metadata": {},
   "outputs": [],
   "source": [
    "# remember, the number of samples to be queried must be divisible by the batch size\n",
    "BATCH_SIZE = 25\n",
    "N_SAMPLES = 500\n",
    "N_QUERIES = int(N_SAMPLES/BATCH_SIZE)"
   ]
  },
  {
   "cell_type": "code",
   "execution_count": 3,
   "metadata": {},
   "outputs": [
    {
     "name": "stdout",
     "output_type": "stream",
     "text": [
      "Number of queries: 20\n"
     ]
    }
   ],
   "source": [
    "print(\"Number of queries: \"+str(N_QUERIES))"
   ]
  },
  {
   "cell_type": "markdown",
   "metadata": {},
   "source": [
    "### Auxiliary functions"
   ]
  },
  {
   "cell_type": "code",
   "execution_count": 4,
   "metadata": {},
   "outputs": [],
   "source": [
    "# for importing the cifar10 dataset\n",
    "def unpickle(file):\n",
    "    import pickle\n",
    "    with open(file, 'rb') as fo:\n",
    "        dict = pickle.load(fo, encoding='bytes')\n",
    "    return dict"
   ]
  },
  {
   "cell_type": "code",
   "execution_count": 5,
   "metadata": {},
   "outputs": [],
   "source": [
    "# returns an image data, its label and the label's name of the image at index im_idx\n",
    "def cifar10_img_info(data, meta, im_idx=0):\n",
    "    im = data[b'data'][im_idx, :]\n",
    "\n",
    "    im_r = im[0:1024].reshape(32, 32)\n",
    "    im_g = im[1024:2048].reshape(32, 32)\n",
    "    im_b = im[2048:].reshape(32, 32)\n",
    "\n",
    "    img = np.dstack((im_r, im_g, im_b))\n",
    "    label = data[b'labels'][im_idx]\n",
    "    category = meta[b'label_names'][data[b'labels'][im_idx]]\n",
    "\n",
    "    return img, label, category"
   ]
  },
  {
   "cell_type": "code",
   "execution_count": 6,
   "metadata": {},
   "outputs": [],
   "source": [
    "# reshapes a image from a row vector to a rgb array\n",
    "def img_reshape(im):\n",
    "    im_r = im[0:1024].reshape(32, 32)\n",
    "    im_g = im[1024:2048].reshape(32, 32)\n",
    "    im_b = im[2048:].reshape(32, 32)\n",
    "\n",
    "    img = np.dstack((im_r, im_g, im_b))\n",
    "    \n",
    "    return img"
   ]
  },
  {
   "cell_type": "code",
   "execution_count": 7,
   "metadata": {},
   "outputs": [],
   "source": [
    "# separates the samples and the labels from the batch to the X and y variables\n",
    "def batch_to_xy(batch):\n",
    "    X = batch[b\"data\"]\n",
    "    y = batch[b\"labels\"]\n",
    "    y = np.array(y)\n",
    "    y.reshape(y.shape[0])\n",
    "    return X, y"
   ]
  },
  {
   "cell_type": "markdown",
   "metadata": {},
   "source": [
    "### Setting the seed to reproduce the same results"
   ]
  },
  {
   "cell_type": "code",
   "execution_count": 8,
   "metadata": {},
   "outputs": [],
   "source": [
    "RANDOM_STATE_SEED = 123\n",
    "np.random.seed(RANDOM_STATE_SEED)"
   ]
  },
  {
   "cell_type": "markdown",
   "metadata": {},
   "source": [
    "### Importing and preparing the dataset"
   ]
  },
  {
   "cell_type": "code",
   "execution_count": 9,
   "metadata": {},
   "outputs": [],
   "source": [
    "# batch with 10000 examples\n",
    "batch1 = unpickle(\"cifar-10-batches-py/data_batch_1\")\n",
    "# meta has the labels' names\n",
    "meta = unpickle(\"cifar-10-batches-py/batches.meta\")"
   ]
  },
  {
   "cell_type": "markdown",
   "metadata": {},
   "source": [
    "#### Example from the dataset"
   ]
  },
  {
   "cell_type": "code",
   "execution_count": 10,
   "metadata": {},
   "outputs": [
    {
     "data": {
      "text/plain": [
       "<matplotlib.image.AxesImage at 0x7f6052d68550>"
      ]
     },
     "execution_count": 10,
     "metadata": {},
     "output_type": "execute_result"
    },
    {
     "data": {
      "image/png": "[encoded data removed]",
      "text/plain": [
       "<Figure size 432x288 with 1 Axes>"
      ]
     },
     "metadata": {
      "needs_background": "light"
     },
     "output_type": "display_data"
    }
   ],
   "source": [
    "# change img_idx to see another example\n",
    "img_idx = 45\n",
    "img_ex, label_ex, category_ex = cifar10_img_info(batch1, meta, img_idx)\n",
    "plt.imshow(img_ex)"
   ]
  },
  {
   "cell_type": "code",
   "execution_count": 11,
   "metadata": {},
   "outputs": [
    {
     "name": "stdout",
     "output_type": "stream",
     "text": [
      "Label: 1\n",
      "Category: b'automobile'\n"
     ]
    }
   ],
   "source": [
    "print(\"Label: \"+str(label_ex)+\"\\nCategory: \"+str(category_ex))"
   ]
  },
  {
   "cell_type": "markdown",
   "metadata": {},
   "source": [
    "#### Preparing the samples and labels"
   ]
  },
  {
   "cell_type": "markdown",
   "metadata": {},
   "source": [
    "First we separate the samples and labels from the raw dataset."
   ]
  },
  {
   "cell_type": "code",
   "execution_count": 12,
   "metadata": {},
   "outputs": [],
   "source": [
    "X_default, Y_default = batch_to_xy(batch1)"
   ]
  },
  {
   "cell_type": "markdown",
   "metadata": {},
   "source": [
    "Since we have 32 x 32 rgb images, we get 32 x 32 x 3 = 3072 features."
   ]
  },
  {
   "cell_type": "code",
   "execution_count": 13,
   "metadata": {},
   "outputs": [
    {
     "name": "stdout",
     "output_type": "stream",
     "text": [
      "(10000, 3072)\n"
     ]
    }
   ],
   "source": [
    "# X_default shape is number of samples x number of features\n",
    "print(X_default.shape)"
   ]
  },
  {
   "cell_type": "code",
   "execution_count": 14,
   "metadata": {},
   "outputs": [
    {
     "name": "stdout",
     "output_type": "stream",
     "text": [
      "(10000,)\n"
     ]
    }
   ],
   "source": [
    "# labels\n",
    "print(Y_default.shape)"
   ]
  },
  {
   "cell_type": "markdown",
   "metadata": {},
   "source": [
    "#### Feature reduction "
   ]
  },
  {
   "cell_type": "markdown",
   "metadata": {},
   "source": [
    "We use PCA to reduce our number of features to 99 in order to optimize the training process."
   ]
  },
  {
   "cell_type": "code",
   "execution_count": 15,
   "metadata": {},
   "outputs": [],
   "source": [
    "pca = PCA(n_components=99, random_state=RANDOM_STATE_SEED)\n",
    "tf_X = pca.fit_transform(X=X_default)"
   ]
  },
  {
   "cell_type": "code",
   "execution_count": 16,
   "metadata": {},
   "outputs": [
    {
     "data": {
      "text/plain": [
       "(10000, 99)"
      ]
     },
     "execution_count": 16,
     "metadata": {},
     "output_type": "execute_result"
    }
   ],
   "source": [
    "tf_X.shape"
   ]
  },
  {
   "cell_type": "code",
   "execution_count": 17,
   "metadata": {},
   "outputs": [],
   "source": [
    "X_default = tf_X"
   ]
  },
  {
   "cell_type": "markdown",
   "metadata": {},
   "source": [
    "#### Separating classes from our dataset to work as unknown classes"
   ]
  },
  {
   "cell_type": "markdown",
   "metadata": {},
   "source": [
    "For our study, we removed the two last classes from our dataset to create a second dataset for training the active learner. We still use the full dataset to evaluate the learner's open set performance by changing the true labels of the samples that were removed to -1. If the learner predicts a sample's label as being -1 it means the sample was considered to be from an unknown class."
   ]
  },
  {
   "cell_type": "code",
   "execution_count": 18,
   "metadata": {},
   "outputs": [],
   "source": [
    "# now we remove two classes from the dataset\n",
    "# first class to be removed\n",
    "unknown1 = 8\n",
    "# second class to be removed\n",
    "unknown2 = 9\n",
    "u1_idx = Y_default == unknown1\n",
    "u2_idx = Y_default == unknown2\n",
    "u_idx = u1_idx + u2_idx\n",
    "# new dataset with the remaining classes\n",
    "X_closed = np.delete(X_default, u_idx, axis=0)\n",
    "Y_closed = np.delete(Y_default, u_idx, axis=0)"
   ]
  },
  {
   "cell_type": "code",
   "execution_count": 19,
   "metadata": {},
   "outputs": [],
   "source": [
    "# Y_open is the modified version of the true labels. Now -1 represents the rejected unknown samples.\n",
    "Y_open = Y_default\n",
    "# -1 is the unknown class label\n",
    "Y_open[u_idx] = -1;"
   ]
  },
  {
   "cell_type": "markdown",
   "metadata": {},
   "source": [
    "### Creating the training sets"
   ]
  },
  {
   "cell_type": "markdown",
   "metadata": {},
   "source": [
    "Now we create the training sets for the active learner and for the baseline classifier. We defined a 75% training split for the training set and a 90% split for the baseline.\n",
    "\n",
    "Both the active learner and baseline classifier are trained with the closed dataset without the unknown classes, those are only used for testing."
   ]
  },
  {
   "cell_type": "code",
   "execution_count": 20,
   "metadata": {},
   "outputs": [],
   "source": [
    "# training set for the active learner\n",
    "n_labeled = X_closed.shape[0]   #Number of samples\n",
    "training_indices = np.random.randint(low=0, high=n_labeled, size=int(n_labeled*0.75))"
   ]
  },
  {
   "cell_type": "code",
   "execution_count": 21,
   "metadata": {},
   "outputs": [
    {
     "data": {
      "text/plain": [
       "(5995, 99)"
      ]
     },
     "execution_count": 21,
     "metadata": {},
     "output_type": "execute_result"
    }
   ],
   "source": [
    "X_train = X_closed[training_indices]\n",
    "y_train = Y_closed[training_indices]\n",
    "X_train.shape"
   ]
  },
  {
   "cell_type": "code",
   "execution_count": 22,
   "metadata": {},
   "outputs": [],
   "source": [
    "# this is the pool where the active learner will query new samples\n",
    "X_pool = np.delete(X_closed, training_indices, axis=0)\n",
    "y_pool = np.delete(Y_closed, training_indices, axis=0)"
   ]
  },
  {
   "cell_type": "code",
   "execution_count": 23,
   "metadata": {},
   "outputs": [
    {
     "data": {
      "text/plain": [
       "(3771, 99)"
      ]
     },
     "execution_count": 23,
     "metadata": {},
     "output_type": "execute_result"
    }
   ],
   "source": [
    "X_pool.shape"
   ]
  },
  {
   "cell_type": "code",
   "execution_count": 24,
   "metadata": {},
   "outputs": [
    {
     "name": "stdout",
     "output_type": "stream",
     "text": [
      "(7194, 99)\n"
     ]
    }
   ],
   "source": [
    "# training set for the baseline classifier\n",
    "n_labeled_baseline = X_closed.shape[0]\n",
    "training_indices_baseline = np.random.randint(low=0, high=n_labeled_baseline, size=int(n_labeled_baseline*0.90))\n",
    "X_train_baseline = X_closed[training_indices_baseline]\n",
    "y_train_baseline = Y_closed[training_indices_baseline]\n",
    "print(X_train_baseline.shape)"
   ]
  },
  {
   "cell_type": "markdown",
   "metadata": {},
   "source": [
    "### Creating the baseline classifier"
   ]
  },
  {
   "cell_type": "markdown",
   "metadata": {},
   "source": [
    "The baseline is a KNN classifier modified to reject unknown classes, also used as the active learner's estimator. The baseline classifier will be trained with 90% of the closed set dataset and will not go through the active learning loop. We calculate the micro-F1 score for both closed and open set performances. "
   ]
  },
  {
   "cell_type": "code",
   "execution_count": 25,
   "metadata": {},
   "outputs": [],
   "source": [
    "knn_default = KNeighborsClassifierOpenSet(n_neighbors_os=3, weights_os='distance')\n",
    "# training the classifier\n",
    "knn_default.fit(X_train_baseline, y_train_baseline)"
   ]
  },
  {
   "cell_type": "code",
   "execution_count": 26,
   "metadata": {},
   "outputs": [
    {
     "name": "stdout",
     "output_type": "stream",
     "text": [
      "Baseline closed set score: 0.7229171878909182\n"
     ]
    }
   ],
   "source": [
    "baseline_score = knn_default.f1_score(X_closed, Y_closed)\n",
    "print(\"Baseline closed set score: \"+str(baseline_score))"
   ]
  },
  {
   "cell_type": "code",
   "execution_count": 27,
   "metadata": {},
   "outputs": [
    {
     "name": "stdout",
     "output_type": "stream",
     "text": [
      "Baseline open set score: 0.6552\n"
     ]
    }
   ],
   "source": [
    "# the threshold is equal to the score on the closed set\n",
    "knn_default.set_threshold(baseline_score)\n",
    "baseline_score_open = knn_default.f1_score_open(X_default, Y_open)\n",
    "print(\"Baseline open set score: \"+str(baseline_score_open))"
   ]
  },
  {
   "cell_type": "markdown",
   "metadata": {},
   "source": [
    "### Initializing the learner"
   ]
  },
  {
   "cell_type": "code",
   "execution_count": 28,
   "metadata": {},
   "outputs": [],
   "source": [
    "knn = KNeighborsClassifierOpenSet(n_neighbors_os=3, weights_os='distance')"
   ]
  },
  {
   "cell_type": "code",
   "execution_count": 29,
   "metadata": {},
   "outputs": [],
   "source": [
    "# pre-set our batch sampling to retrieve BATCH_SIZE samples at a time\n",
    "preset_batch = partial(uncertainty_batch_sampling, n_instances=BATCH_SIZE)"
   ]
  },
  {
   "cell_type": "code",
   "execution_count": 30,
   "metadata": {},
   "outputs": [],
   "source": [
    "# creating the active learner\n",
    "learner = ActiveLearner(\n",
    "    estimator=knn,\n",
    "    X_training=X_train,\n",
    "    y_training=y_train,\n",
    "    query_strategy=preset_batch\n",
    ")"
   ]
  },
  {
   "cell_type": "code",
   "execution_count": 32,
   "metadata": {},
   "outputs": [
    {
     "name": "stdout",
     "output_type": "stream",
     "text": [
      "Closed set score: 0.6861396047035276\n"
     ]
    }
   ],
   "source": [
    "# closed set score\n",
    "closed_set_score = learner.estimator.f1_score(X_closed, Y_closed)\n",
    "performance_history = [closed_set_score]\n",
    "print(\"Closed set score: \"+str(closed_set_score))"
   ]
  },
  {
   "cell_type": "code",
   "execution_count": 33,
   "metadata": {},
   "outputs": [],
   "source": [
    "# setting the open set classifier threshold\n",
    "learner.estimator.set_threshold(closed_set_score)"
   ]
  },
  {
   "cell_type": "code",
   "execution_count": 34,
   "metadata": {},
   "outputs": [
    {
     "name": "stdout",
     "output_type": "stream",
     "text": [
      "Open set score: 0.6071\n"
     ]
    }
   ],
   "source": [
    "# open set score\n",
    "open_score = learner.estimator.f1_score_open(X_default, Y_open)\n",
    "open_performance_history = [open_score]\n",
    "print(\"Open set score: \"+str(open_score))"
   ]
  },
  {
   "cell_type": "markdown",
   "metadata": {},
   "source": [
    "### Active learning loop"
   ]
  },
  {
   "cell_type": "markdown",
   "metadata": {},
   "source": [
    "Here is where the Active Learning happens. At each iteration, the learner queries a batch of samples and receives the correct labels. Then the learner trains the estimator again with the new learned samples. Finally, we calculate the performance on the closed and open sets in each iteration."
   ]
  },
  {
   "cell_type": "code",
   "execution_count": 35,
   "metadata": {},
   "outputs": [
    {
     "name": "stdout",
     "output_type": "stream",
     "text": [
      "Closed set accuracy after query 1: 0.6889\n",
      "Open set accuracy after query 1: 0.6099\n",
      "Closed set accuracy after query 2: 0.6909\n",
      "Open set accuracy after query 2: 0.6131\n",
      "Closed set accuracy after query 3: 0.6935\n",
      "Open set accuracy after query 3: 0.6157\n",
      "Closed set accuracy after query 4: 0.6963\n",
      "Open set accuracy after query 4: 0.6186\n",
      "Closed set accuracy after query 5: 0.6989\n",
      "Open set accuracy after query 5: 0.6220\n",
      "Closed set accuracy after query 6: 0.7013\n",
      "Open set accuracy after query 6: 0.6242\n",
      "Closed set accuracy after query 7: 0.7037\n",
      "Open set accuracy after query 7: 0.6266\n",
      "Closed set accuracy after query 8: 0.7062\n",
      "Open set accuracy after query 8: 0.6293\n",
      "Closed set accuracy after query 9: 0.7088\n",
      "Open set accuracy after query 9: 0.6316\n",
      "Closed set accuracy after query 10: 0.7118\n",
      "Open set accuracy after query 10: 0.6343\n",
      "Closed set accuracy after query 11: 0.7144\n",
      "Open set accuracy after query 11: 0.6367\n",
      "Closed set accuracy after query 12: 0.7162\n",
      "Open set accuracy after query 12: 0.6393\n",
      "Closed set accuracy after query 13: 0.7182\n",
      "Open set accuracy after query 13: 0.6421\n",
      "Closed set accuracy after query 14: 0.7199\n",
      "Open set accuracy after query 14: 0.6443\n",
      "Closed set accuracy after query 15: 0.7228\n",
      "Open set accuracy after query 15: 0.6472\n",
      "Closed set accuracy after query 16: 0.7250\n",
      "Open set accuracy after query 16: 0.6496\n",
      "Closed set accuracy after query 17: 0.7282\n",
      "Open set accuracy after query 17: 0.6527\n",
      "Closed set accuracy after query 18: 0.7300\n",
      "Open set accuracy after query 18: 0.6554\n",
      "Closed set accuracy after query 19: 0.7319\n",
      "Open set accuracy after query 19: 0.6580\n",
      "Closed set accuracy after query 20: 0.7343\n",
      "Open set accuracy after query 20: 0.6607\n"
     ]
    }
   ],
   "source": [
    "for index in range(N_QUERIES):\n",
    "    query_index, query_instance = learner.query(X_pool)\n",
    "\n",
    "    # teach our ActiveLearner model the batch it has requested\n",
    "    X, y = X_pool[query_index], y_pool[query_index]\n",
    "    learner.teach(X=X, y=y)\n",
    "\n",
    "    # remove the queried instances from the unlabeled pool.\n",
    "    X_pool = np.delete(X_pool, query_index, axis=0)\n",
    "    y_pool = np.delete(y_pool, query_index)\n",
    "\n",
    "    # calculate our model's closed set performance\n",
    "    model_f1_score = learner.estimator.f1_score(X_closed, Y_closed)\n",
    "    # updating the threshold\n",
    "    learner.estimator.set_threshold(model_f1_score)\n",
    "    # calculate our model's open set performance\n",
    "    model_open_f1_score = learner.estimator.f1_score_open(X_default, Y_open)\n",
    "    print('Closed set accuracy after query {n}: {acc:0.4f}'.format(n=index + 1, acc=model_f1_score))\n",
    "    print('Open set accuracy after query {n}: {acc:0.4f}'.format(n=index + 1, acc=model_open_f1_score))\n",
    "    # save our model's performance for plotting\n",
    "    performance_history.append(model_f1_score)\n",
    "    open_performance_history.append(model_open_f1_score)"
   ]
  },
  {
   "cell_type": "code",
   "execution_count": 36,
   "metadata": {},
   "outputs": [
    {
     "data": {
      "image/png": "[encoded data removed]",
      "text/plain": [
       "<Figure size 720x360 with 1 Axes>"
      ]
     },
     "metadata": {},
     "output_type": "display_data"
    }
   ],
   "source": [
    "with plt.style.context('seaborn-white'):\n",
    "    plt.figure(figsize=(10, 5))\n",
    "    plt.title('Micro-F1 score of the classifier during the active learning')    \n",
    "    plt.plot(range(N_QUERIES+1), performance_history)\n",
    "    plt.scatter(range(N_QUERIES+1), performance_history)\n",
    "    plt.plot(range(N_QUERIES+1), open_performance_history)\n",
    "    plt.scatter(range(N_QUERIES+1), open_performance_history)\n",
    "    plt.plot(range(N_QUERIES+1), np.repeat(baseline_score, N_QUERIES+1))\n",
    "    plt.plot(range(N_QUERIES+1), np.repeat(baseline_score_open, N_QUERIES+1))\n",
    "    plt.legend(['Closed set performance','Open set performance','Baseline (closed set)','Baseline (open set)'], fontsize = 'large')\n",
    "    plt.xlabel('Number of queries')\n",
    "    plt.ylabel('Micro-f1 score')\n",
    "    plt.show()"
   ]
  },
  {
   "cell_type": "markdown",
   "metadata": {},
   "source": [
    "### Threshold comparison"
   ]
  },
  {
   "cell_type": "markdown",
   "metadata": {},
   "source": [
    "We have chosen to define dynamically our estimator threshold as the estimator's closed set performance. Below we can compare it to other possible thresholds using our already trained estimator."
   ]
  },
  {
   "cell_type": "code",
   "execution_count": 37,
   "metadata": {},
   "outputs": [
    {
     "data": {
      "image/png": "[encoded data removed]",
      "text/plain": [
       "<Figure size 720x360 with 1 Axes>"
      ]
     },
     "metadata": {},
     "output_type": "display_data"
    }
   ],
   "source": [
    "thresholds = [0.5, 0.55, 0.6, 0.65, 0.7, 0.75, 0.8]\n",
    "results = []\n",
    "default_threshold = learner.estimator.threshold\n",
    "for thresh in thresholds:\n",
    "    learner.estimator.set_threshold(thresh)\n",
    "    open_score = learner.estimator.f1_score_open(X_default, Y_open)\n",
    "    results.append(open_score)\n",
    "with plt.style.context('seaborn-white'):\n",
    "    plt.figure(figsize=(10, 5))\n",
    "    plt.title('Open set rejection threshold comparison')\n",
    "    plt.plot(thresholds, results)\n",
    "    plt.plot(default_threshold, open_performance_history[-1], 'x')\n",
    "    plt.scatter(thresholds, results)\n",
    "    plt.xlabel('Threshold')\n",
    "    plt.ylabel('Micro-F1 score')\n",
    "    plt.show()"
   ]
  },
  {
   "cell_type": "markdown",
   "metadata": {},
   "source": [
    "### Unknown class detection"
   ]
  },
  {
   "cell_type": "markdown",
   "metadata": {},
   "source": [
    "Here we evaluate our approach's capacity of rejecting the unknown classes."
   ]
  },
  {
   "cell_type": "code",
   "execution_count": 38,
   "metadata": {},
   "outputs": [],
   "source": [
    "# this dataset only has the unknown samples\n",
    "X_unknown = X_default[u_idx]\n",
    "y_unknown = Y_open[u_idx]"
   ]
  },
  {
   "cell_type": "code",
   "execution_count": 39,
   "metadata": {},
   "outputs": [
    {
     "name": "stdout",
     "output_type": "stream",
     "text": [
      "Number of unknown samples: 2006\n"
     ]
    }
   ],
   "source": [
    "print(\"Number of unknown samples: \"+str(X_unknown.shape[0]))"
   ]
  },
  {
   "cell_type": "code",
   "execution_count": 40,
   "metadata": {},
   "outputs": [
    {
     "name": "stdout",
     "output_type": "stream",
     "text": [
      "Rejected samples: 1410\n"
     ]
    }
   ],
   "source": [
    "unknown_classes_prediction = learner.estimator.predict_open(X_unknown)\n",
    "is_correct = unknown_classes_prediction == y_unknown\n",
    "correct = np.count_nonzero(is_correct)\n",
    "print(\"Rejected samples: \"+str(correct))"
   ]
  },
  {
   "cell_type": "code",
   "execution_count": 42,
   "metadata": {},
   "outputs": [
    {
     "name": "stdout",
     "output_type": "stream",
     "text": [
      "Rejection accuracy: 0.7028913260219342\n"
     ]
    }
   ],
   "source": [
    "print(\"Rejection accuracy: \"+str((correct/X_unknown.shape[0])))"
   ]
  },
  {
   "cell_type": "markdown",
   "metadata": {},
   "source": [
    "Baseline performance"
   ]
  },
  {
   "cell_type": "code",
   "execution_count": 44,
   "metadata": {},
   "outputs": [
    {
     "name": "stdout",
     "output_type": "stream",
     "text": [
      "Baseline rejection accuracy: 0.6610169491525424\n"
     ]
    }
   ],
   "source": [
    "baseline_pred = knn_default.predict_open(X_unknown)\n",
    "baseline_is_correct = baseline_pred == y_unknown\n",
    "baseline_correct = np.count_nonzero(baseline_is_correct)\n",
    "print(\"Baseline rejection accuracy: \"+str((baseline_correct/X_unknown.shape[0])))"
   ]
  },
  {
   "cell_type": "markdown",
   "metadata": {},
   "source": [
    "### Save results"
   ]
  },
  {
   "cell_type": "code",
   "execution_count": 45,
   "metadata": {},
   "outputs": [],
   "source": [
    "np.save(\"Results/performancb\"+str(BATCH_SIZE)+\"closed.npy\",performance_history)\n",
    "np.save(\"Results/performancb\"+str(BATCH_SIZE)+\"open.npy\",open_performance_history)"
   ]
  },
  {
   "cell_type": "code",
   "execution_count": 46,
   "metadata": {},
   "outputs": [],
   "source": [
    "np.save(\"Results/performancebaselineclosed.npy\",baseline_score)\n",
    "np.save(\"Results/performancebaselineopen.npy\",baseline_score_open)"
   ]
  },
  {
   "cell_type": "markdown",
   "metadata": {},
   "source": [
    "#### Just to check if everything is ok"
   ]
  },
  {
   "cell_type": "code",
   "execution_count": 47,
   "metadata": {},
   "outputs": [],
   "source": [
    "saved_closed = np.load(\"Results/performancb\"+str(BATCH_SIZE)+\"closed.npy\")\n",
    "saved_open = np.load(\"Results/performancb\"+str(BATCH_SIZE)+\"open.npy\")"
   ]
  },
  {
   "cell_type": "code",
   "execution_count": 48,
   "metadata": {},
   "outputs": [
    {
     "name": "stdout",
     "output_type": "stream",
     "text": [
      "[0.6861396  0.68889167 0.69089317 0.69352014 0.6962722  0.69889917\n",
      " 0.70127596 0.70365274 0.70615462 0.70878159 0.71178384 0.71441081\n",
      " 0.71616212 0.71816362 0.71991494 0.72279209 0.72504378 0.72817113\n",
      " 0.73004754 0.73192394 0.73430073]\n"
     ]
    }
   ],
   "source": [
    "print(saved_closed)"
   ]
  },
  {
   "cell_type": "code",
   "execution_count": 49,
   "metadata": {},
   "outputs": [
    {
     "name": "stdout",
     "output_type": "stream",
     "text": [
      "[0.6071 0.6099 0.6131 0.6157 0.6186 0.622  0.6242 0.6266 0.6293 0.6316\n",
      " 0.6343 0.6367 0.6393 0.6421 0.6443 0.6472 0.6496 0.6527 0.6554 0.658\n",
      " 0.6607]\n"
     ]
    }
   ],
   "source": [
    "print(saved_open)"
   ]
  },
  {
   "cell_type": "code",
   "execution_count": 50,
   "metadata": {},
   "outputs": [],
   "source": [
    "saved_base_closed = np.load(\"Results/performancebaselineclosed.npy\")\n",
    "saved_base_open = np.load(\"Results/performancebaselineopen.npy\")"
   ]
  },
  {
   "cell_type": "code",
   "execution_count": 51,
   "metadata": {},
   "outputs": [
    {
     "name": "stdout",
     "output_type": "stream",
     "text": [
      "0.7229171878909182\n"
     ]
    }
   ],
   "source": [
    "print(saved_base_closed)"
   ]
  },
  {
   "cell_type": "code",
   "execution_count": 52,
   "metadata": {},
   "outputs": [
    {
     "name": "stdout",
     "output_type": "stream",
     "text": [
      "0.6552\n"
     ]
    }
   ],
   "source": [
    "print(saved_base_open)"
   ]
  },
  {
   "cell_type": "code",
   "execution_count": null,
   "metadata": {},
   "outputs": [],
   "source": []
  }
 ],
 "metadata": {
  "kernelspec": {
   "display_name": "Python 3",
   "language": "python",
   "name": "python3"
  },
  "language_info": {
   "codemirror_mode": {
    "name": "ipython",
    "version": 3
   },
   "file_extension": ".py",
   "mimetype": "text/x-python",
   "name": "python",
   "nbconvert_exporter": "python",
   "pygments_lexer": "ipython3",
   "version": "3.8.2"
  }
 },
 "nbformat": 4,
 "nbformat_minor": 4
}
